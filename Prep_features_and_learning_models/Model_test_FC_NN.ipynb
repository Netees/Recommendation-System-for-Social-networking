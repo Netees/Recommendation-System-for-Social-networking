{
 "cells": [
  {
   "cell_type": "code",
   "execution_count": 3,
   "id": "426df261",
   "metadata": {
    "ExecuteTime": {
     "end_time": "2022-09-02T08:23:51.153949Z",
     "start_time": "2022-09-02T08:23:47.672951Z"
    }
   },
   "outputs": [],
   "source": [
    "import pandas as pd\n",
    "import re\n",
    "import string\n",
    "import numpy as np\n",
    "from collections import Counter\n",
    "import pickle\n",
    "from gensim.parsing.preprocessing import preprocess_string\n",
    "from pyemd import emd\n",
    "from gensim.models import FastText\n",
    "from tqdm import tqdm\n",
    "from IPython.display import clear_output\n",
    "from sqlalchemy import create_engine\n",
    "import seaborn as sns\n",
    "import matplotlib.pyplot as plt\n",
    "import torch\n",
    "import torch.nn as nn\n",
    "from IPython.display import clear_output\n",
    "from torch.optim import Adam\n",
    "from torch.optim import Optimizer\n",
    "from torch.utils.data import TensorDataset, DataLoader, Dataset"
   ]
  },
  {
   "cell_type": "code",
   "execution_count": 21,
   "id": "7db68aa7",
   "metadata": {
    "ExecuteTime": {
     "end_time": "2022-09-02T08:54:00.273950Z",
     "start_time": "2022-09-02T08:54:00.240951Z"
    }
   },
   "outputs": [
    {
     "data": {
      "text/plain": [
       "True"
      ]
     },
     "execution_count": 21,
     "metadata": {},
     "output_type": "execute_result"
    }
   ],
   "source": [
    "import os\n",
    "from dotenv import load_dotenv\n",
    "load_dotenv()"
   ]
  },
  {
   "cell_type": "code",
   "execution_count": 22,
   "id": "8067a4cd",
   "metadata": {
    "ExecuteTime": {
     "end_time": "2022-09-02T08:54:01.983951Z",
     "start_time": "2022-09-02T08:54:01.979950Z"
    }
   },
   "outputs": [],
   "source": [
    "POSTGRES_USER = os.environ.get(\"POSTGRES_USER\")\n",
    "POSTGRES_PASSWORD = os.environ.get(\"POSTGRES_PASSWORD\")\n",
    "POSTGRES_HOST = os.environ.get(\"POSTGRES_HOST\")\n",
    "POSTGRES_PORT = os.environ.get(\"POSTGRES_PORT\")\n",
    "POSTGRES_DATABASE = os.environ.get(\"POSTGRES_DATABASE\")"
   ]
  },
  {
   "cell_type": "code",
   "execution_count": 23,
   "id": "abf90dd6",
   "metadata": {
    "ExecuteTime": {
     "end_time": "2022-09-02T08:54:06.432951Z",
     "start_time": "2022-09-02T08:54:03.103950Z"
    }
   },
   "outputs": [
    {
     "data": {
      "text/html": [
       "<div>\n",
       "<style scoped>\n",
       "    .dataframe tbody tr th:only-of-type {\n",
       "        vertical-align: middle;\n",
       "    }\n",
       "\n",
       "    .dataframe tbody tr th {\n",
       "        vertical-align: top;\n",
       "    }\n",
       "\n",
       "    .dataframe thead th {\n",
       "        text-align: right;\n",
       "    }\n",
       "</style>\n",
       "<table border=\"1\" class=\"dataframe\">\n",
       "  <thead>\n",
       "    <tr style=\"text-align: right;\">\n",
       "      <th></th>\n",
       "      <th>post_id</th>\n",
       "      <th>text</th>\n",
       "      <th>topic</th>\n",
       "    </tr>\n",
       "  </thead>\n",
       "  <tbody>\n",
       "    <tr>\n",
       "      <th>0</th>\n",
       "      <td>1</td>\n",
       "      <td>UK economy facing major risks\\n\\nThe UK manufa...</td>\n",
       "      <td>business</td>\n",
       "    </tr>\n",
       "    <tr>\n",
       "      <th>1</th>\n",
       "      <td>2</td>\n",
       "      <td>Aids and climate top Davos agenda\\n\\nClimate c...</td>\n",
       "      <td>business</td>\n",
       "    </tr>\n",
       "    <tr>\n",
       "      <th>2</th>\n",
       "      <td>3</td>\n",
       "      <td>Asian quake hits European shares\\n\\nShares in ...</td>\n",
       "      <td>business</td>\n",
       "    </tr>\n",
       "    <tr>\n",
       "      <th>3</th>\n",
       "      <td>4</td>\n",
       "      <td>India power shares jump on debut\\n\\nShares in ...</td>\n",
       "      <td>business</td>\n",
       "    </tr>\n",
       "    <tr>\n",
       "      <th>4</th>\n",
       "      <td>5</td>\n",
       "      <td>Lacroix label bought by US firm\\n\\nLuxury good...</td>\n",
       "      <td>business</td>\n",
       "    </tr>\n",
       "  </tbody>\n",
       "</table>\n",
       "</div>"
      ],
      "text/plain": [
       "   post_id                                               text     topic\n",
       "0        1  UK economy facing major risks\\n\\nThe UK manufa...  business\n",
       "1        2  Aids and climate top Davos agenda\\n\\nClimate c...  business\n",
       "2        3  Asian quake hits European shares\\n\\nShares in ...  business\n",
       "3        4  India power shares jump on debut\\n\\nShares in ...  business\n",
       "4        5  Lacroix label bought by US firm\\n\\nLuxury good...  business"
      ]
     },
     "execution_count": 23,
     "metadata": {},
     "output_type": "execute_result"
    }
   ],
   "source": [
    "# Датасет по постам\n",
    "posts_info = pd.read_sql(\n",
    "    \"\"\"SELECT * FROM public.post_text_df\"\"\",\n",
    "    \n",
    "    con=\"postgresql://\" + POSTGRES_USER + \":\" + POSTGRES_PASSWORD + \"@\"\n",
    "        + str(POSTGRES_HOST) + \":\" + POSTGRES_PORT + \"/\" + POSTGRES_DATABASE)\n",
    "\n",
    "posts_info.head()"
   ]
  },
  {
   "cell_type": "code",
   "execution_count": 24,
   "id": "34b68745",
   "metadata": {
    "ExecuteTime": {
     "end_time": "2022-09-02T08:54:15.724949Z",
     "start_time": "2022-09-02T08:54:09.307950Z"
    }
   },
   "outputs": [
    {
     "data": {
      "text/html": [
       "<div>\n",
       "<style scoped>\n",
       "    .dataframe tbody tr th:only-of-type {\n",
       "        vertical-align: middle;\n",
       "    }\n",
       "\n",
       "    .dataframe tbody tr th {\n",
       "        vertical-align: top;\n",
       "    }\n",
       "\n",
       "    .dataframe thead th {\n",
       "        text-align: right;\n",
       "    }\n",
       "</style>\n",
       "<table border=\"1\" class=\"dataframe\">\n",
       "  <thead>\n",
       "    <tr style=\"text-align: right;\">\n",
       "      <th></th>\n",
       "      <th>user_id</th>\n",
       "      <th>gender</th>\n",
       "      <th>age</th>\n",
       "      <th>country</th>\n",
       "      <th>city</th>\n",
       "      <th>exp_group</th>\n",
       "      <th>os</th>\n",
       "      <th>source</th>\n",
       "    </tr>\n",
       "  </thead>\n",
       "  <tbody>\n",
       "    <tr>\n",
       "      <th>0</th>\n",
       "      <td>200</td>\n",
       "      <td>1</td>\n",
       "      <td>34</td>\n",
       "      <td>Russia</td>\n",
       "      <td>Degtyarsk</td>\n",
       "      <td>3</td>\n",
       "      <td>Android</td>\n",
       "      <td>ads</td>\n",
       "    </tr>\n",
       "    <tr>\n",
       "      <th>1</th>\n",
       "      <td>201</td>\n",
       "      <td>0</td>\n",
       "      <td>37</td>\n",
       "      <td>Russia</td>\n",
       "      <td>Abakan</td>\n",
       "      <td>0</td>\n",
       "      <td>Android</td>\n",
       "      <td>ads</td>\n",
       "    </tr>\n",
       "    <tr>\n",
       "      <th>2</th>\n",
       "      <td>202</td>\n",
       "      <td>1</td>\n",
       "      <td>17</td>\n",
       "      <td>Russia</td>\n",
       "      <td>Smolensk</td>\n",
       "      <td>4</td>\n",
       "      <td>Android</td>\n",
       "      <td>ads</td>\n",
       "    </tr>\n",
       "    <tr>\n",
       "      <th>3</th>\n",
       "      <td>203</td>\n",
       "      <td>0</td>\n",
       "      <td>18</td>\n",
       "      <td>Russia</td>\n",
       "      <td>Moscow</td>\n",
       "      <td>1</td>\n",
       "      <td>iOS</td>\n",
       "      <td>ads</td>\n",
       "    </tr>\n",
       "    <tr>\n",
       "      <th>4</th>\n",
       "      <td>204</td>\n",
       "      <td>0</td>\n",
       "      <td>36</td>\n",
       "      <td>Russia</td>\n",
       "      <td>Anzhero-Sudzhensk</td>\n",
       "      <td>3</td>\n",
       "      <td>Android</td>\n",
       "      <td>ads</td>\n",
       "    </tr>\n",
       "  </tbody>\n",
       "</table>\n",
       "</div>"
      ],
      "text/plain": [
       "   user_id  gender  age country               city  exp_group       os source\n",
       "0      200       1   34  Russia          Degtyarsk          3  Android    ads\n",
       "1      201       0   37  Russia             Abakan          0  Android    ads\n",
       "2      202       1   17  Russia           Smolensk          4  Android    ads\n",
       "3      203       0   18  Russia             Moscow          1      iOS    ads\n",
       "4      204       0   36  Russia  Anzhero-Sudzhensk          3  Android    ads"
      ]
     },
     "execution_count": 24,
     "metadata": {},
     "output_type": "execute_result"
    }
   ],
   "source": [
    "# Датасет по юзерам\n",
    "user_info = pd.read_sql(\n",
    "    \"\"\"SELECT * FROM public.user_data\"\"\",\n",
    "    \n",
    "    con=\"postgresql://\" + POSTGRES_USER + \":\" + POSTGRES_PASSWORD + \"@\"\n",
    "        + str(POSTGRES_HOST) + \":\" + POSTGRES_PORT + \"/\" + POSTGRES_DATABASE)\n",
    "\n",
    "user_info.head()"
   ]
  },
  {
   "cell_type": "markdown",
   "id": "d8afbd59",
   "metadata": {},
   "source": [
    "### Юзер фичи"
   ]
  },
  {
   "cell_type": "code",
   "execution_count": 6,
   "id": "174032c8",
   "metadata": {
    "ExecuteTime": {
     "end_time": "2022-09-02T07:12:52.405321Z",
     "start_time": "2022-09-02T07:12:52.390318Z"
    }
   },
   "outputs": [],
   "source": [
    "cat_cols_user = ['gender', 'country', 'city', 'exp_group', 'os', 'source']"
   ]
  },
  {
   "cell_type": "code",
   "execution_count": 25,
   "id": "c28c65bf",
   "metadata": {
    "ExecuteTime": {
     "end_time": "2022-09-02T08:54:46.065951Z",
     "start_time": "2022-09-02T08:54:46.023950Z"
    }
   },
   "outputs": [
    {
     "data": {
      "text/plain": [
       "3915"
      ]
     },
     "execution_count": 25,
     "metadata": {},
     "output_type": "execute_result"
    }
   ],
   "source": [
    "user_info.city.nunique()"
   ]
  },
  {
   "cell_type": "code",
   "execution_count": 7,
   "id": "7775856f",
   "metadata": {
    "ExecuteTime": {
     "end_time": "2022-09-02T07:12:53.068319Z",
     "start_time": "2022-09-02T07:12:52.408320Z"
    }
   },
   "outputs": [],
   "source": [
    "# Обработка категориальных фичей\n",
    "from sklearn.preprocessing import OrdinalEncoder\n",
    "for col in cat_cols_user:\n",
    "    if user_info[col].nunique() <= 7:\n",
    "        one_hot = pd.get_dummies(user_info[col], prefix=col, drop_first=True)\n",
    "        user_info = pd.concat((user_info.drop(col, axis=1), one_hot), axis=1)\n",
    "\n",
    "    elif user_info[col].nunique() > 7:\n",
    "        ord_enc = OrdinalEncoder()\n",
    "        user_info[f\"code_{col}\"] = ord_enc.fit_transform(user_info[[col]])\n",
    "        user_info = user_info.drop(col, axis=1)\n"
   ]
  },
  {
   "cell_type": "code",
   "execution_count": 8,
   "id": "6dcd8d48",
   "metadata": {
    "ExecuteTime": {
     "end_time": "2022-09-02T07:12:53.100318Z",
     "start_time": "2022-09-02T07:12:53.070320Z"
    }
   },
   "outputs": [
    {
     "data": {
      "text/html": [
       "<div>\n",
       "<style scoped>\n",
       "    .dataframe tbody tr th:only-of-type {\n",
       "        vertical-align: middle;\n",
       "    }\n",
       "\n",
       "    .dataframe tbody tr th {\n",
       "        vertical-align: top;\n",
       "    }\n",
       "\n",
       "    .dataframe thead th {\n",
       "        text-align: right;\n",
       "    }\n",
       "</style>\n",
       "<table border=\"1\" class=\"dataframe\">\n",
       "  <thead>\n",
       "    <tr style=\"text-align: right;\">\n",
       "      <th></th>\n",
       "      <th>user_id</th>\n",
       "      <th>age</th>\n",
       "      <th>gender_1</th>\n",
       "      <th>code_country</th>\n",
       "      <th>code_city</th>\n",
       "      <th>exp_group_1</th>\n",
       "      <th>exp_group_2</th>\n",
       "      <th>exp_group_3</th>\n",
       "      <th>exp_group_4</th>\n",
       "      <th>os_iOS</th>\n",
       "      <th>source_organic</th>\n",
       "    </tr>\n",
       "  </thead>\n",
       "  <tbody>\n",
       "    <tr>\n",
       "      <th>0</th>\n",
       "      <td>200</td>\n",
       "      <td>34</td>\n",
       "      <td>1</td>\n",
       "      <td>7.0</td>\n",
       "      <td>651.0</td>\n",
       "      <td>0</td>\n",
       "      <td>0</td>\n",
       "      <td>1</td>\n",
       "      <td>0</td>\n",
       "      <td>0</td>\n",
       "      <td>0</td>\n",
       "    </tr>\n",
       "    <tr>\n",
       "      <th>1</th>\n",
       "      <td>201</td>\n",
       "      <td>37</td>\n",
       "      <td>0</td>\n",
       "      <td>7.0</td>\n",
       "      <td>2.0</td>\n",
       "      <td>0</td>\n",
       "      <td>0</td>\n",
       "      <td>0</td>\n",
       "      <td>0</td>\n",
       "      <td>0</td>\n",
       "      <td>0</td>\n",
       "    </tr>\n",
       "    <tr>\n",
       "      <th>2</th>\n",
       "      <td>202</td>\n",
       "      <td>17</td>\n",
       "      <td>1</td>\n",
       "      <td>7.0</td>\n",
       "      <td>2931.0</td>\n",
       "      <td>0</td>\n",
       "      <td>0</td>\n",
       "      <td>0</td>\n",
       "      <td>1</td>\n",
       "      <td>0</td>\n",
       "      <td>0</td>\n",
       "    </tr>\n",
       "    <tr>\n",
       "      <th>3</th>\n",
       "      <td>203</td>\n",
       "      <td>18</td>\n",
       "      <td>0</td>\n",
       "      <td>7.0</td>\n",
       "      <td>1953.0</td>\n",
       "      <td>1</td>\n",
       "      <td>0</td>\n",
       "      <td>0</td>\n",
       "      <td>0</td>\n",
       "      <td>1</td>\n",
       "      <td>0</td>\n",
       "    </tr>\n",
       "    <tr>\n",
       "      <th>4</th>\n",
       "      <td>204</td>\n",
       "      <td>36</td>\n",
       "      <td>0</td>\n",
       "      <td>7.0</td>\n",
       "      <td>125.0</td>\n",
       "      <td>0</td>\n",
       "      <td>0</td>\n",
       "      <td>1</td>\n",
       "      <td>0</td>\n",
       "      <td>0</td>\n",
       "      <td>0</td>\n",
       "    </tr>\n",
       "    <tr>\n",
       "      <th>...</th>\n",
       "      <td>...</td>\n",
       "      <td>...</td>\n",
       "      <td>...</td>\n",
       "      <td>...</td>\n",
       "      <td>...</td>\n",
       "      <td>...</td>\n",
       "      <td>...</td>\n",
       "      <td>...</td>\n",
       "      <td>...</td>\n",
       "      <td>...</td>\n",
       "      <td>...</td>\n",
       "    </tr>\n",
       "    <tr>\n",
       "      <th>163200</th>\n",
       "      <td>168548</td>\n",
       "      <td>36</td>\n",
       "      <td>0</td>\n",
       "      <td>7.0</td>\n",
       "      <td>1124.0</td>\n",
       "      <td>0</td>\n",
       "      <td>0</td>\n",
       "      <td>0</td>\n",
       "      <td>1</td>\n",
       "      <td>0</td>\n",
       "      <td>1</td>\n",
       "    </tr>\n",
       "    <tr>\n",
       "      <th>163201</th>\n",
       "      <td>168549</td>\n",
       "      <td>18</td>\n",
       "      <td>0</td>\n",
       "      <td>7.0</td>\n",
       "      <td>3287.0</td>\n",
       "      <td>0</td>\n",
       "      <td>1</td>\n",
       "      <td>0</td>\n",
       "      <td>0</td>\n",
       "      <td>0</td>\n",
       "      <td>1</td>\n",
       "    </tr>\n",
       "    <tr>\n",
       "      <th>163202</th>\n",
       "      <td>168550</td>\n",
       "      <td>41</td>\n",
       "      <td>1</td>\n",
       "      <td>7.0</td>\n",
       "      <td>3698.0</td>\n",
       "      <td>0</td>\n",
       "      <td>0</td>\n",
       "      <td>0</td>\n",
       "      <td>1</td>\n",
       "      <td>0</td>\n",
       "      <td>1</td>\n",
       "    </tr>\n",
       "    <tr>\n",
       "      <th>163203</th>\n",
       "      <td>168551</td>\n",
       "      <td>38</td>\n",
       "      <td>0</td>\n",
       "      <td>7.0</td>\n",
       "      <td>1953.0</td>\n",
       "      <td>0</td>\n",
       "      <td>0</td>\n",
       "      <td>1</td>\n",
       "      <td>0</td>\n",
       "      <td>1</td>\n",
       "      <td>1</td>\n",
       "    </tr>\n",
       "    <tr>\n",
       "      <th>163204</th>\n",
       "      <td>168552</td>\n",
       "      <td>16</td>\n",
       "      <td>1</td>\n",
       "      <td>7.0</td>\n",
       "      <td>1061.0</td>\n",
       "      <td>0</td>\n",
       "      <td>0</td>\n",
       "      <td>0</td>\n",
       "      <td>1</td>\n",
       "      <td>0</td>\n",
       "      <td>1</td>\n",
       "    </tr>\n",
       "  </tbody>\n",
       "</table>\n",
       "<p>163205 rows × 11 columns</p>\n",
       "</div>"
      ],
      "text/plain": [
       "        user_id  age  gender_1  code_country  code_city  exp_group_1  \\\n",
       "0           200   34         1           7.0      651.0            0   \n",
       "1           201   37         0           7.0        2.0            0   \n",
       "2           202   17         1           7.0     2931.0            0   \n",
       "3           203   18         0           7.0     1953.0            1   \n",
       "4           204   36         0           7.0      125.0            0   \n",
       "...         ...  ...       ...           ...        ...          ...   \n",
       "163200   168548   36         0           7.0     1124.0            0   \n",
       "163201   168549   18         0           7.0     3287.0            0   \n",
       "163202   168550   41         1           7.0     3698.0            0   \n",
       "163203   168551   38         0           7.0     1953.0            0   \n",
       "163204   168552   16         1           7.0     1061.0            0   \n",
       "\n",
       "        exp_group_2  exp_group_3  exp_group_4  os_iOS  source_organic  \n",
       "0                 0            1            0       0               0  \n",
       "1                 0            0            0       0               0  \n",
       "2                 0            0            1       0               0  \n",
       "3                 0            0            0       1               0  \n",
       "4                 0            1            0       0               0  \n",
       "...             ...          ...          ...     ...             ...  \n",
       "163200            0            0            1       0               1  \n",
       "163201            1            0            0       0               1  \n",
       "163202            0            0            1       0               1  \n",
       "163203            0            1            0       1               1  \n",
       "163204            0            0            1       0               1  \n",
       "\n",
       "[163205 rows x 11 columns]"
      ]
     },
     "execution_count": 8,
     "metadata": {},
     "output_type": "execute_result"
    }
   ],
   "source": [
    "user_info"
   ]
  },
  {
   "cell_type": "code",
   "execution_count": 9,
   "id": "12bef214",
   "metadata": {
    "ExecuteTime": {
     "end_time": "2022-09-02T07:14:45.823318Z",
     "start_time": "2022-09-02T07:12:53.102319Z"
    }
   },
   "outputs": [],
   "source": [
    "# Пролайканные посты\n",
    "\n",
    "def load_data_sql(query: str):\n",
    "    engine = create_engine(\n",
    "        \"postgresql://\" + POSTGRES_USER + \":\" + POSTGRES_PASSWORD + \"@\"\n",
    "        + str(POSTGRES_HOST) + \":\" + POSTGRES_PORT + \"/\" + POSTGRES_DATABASE)\n",
    "    conn = engine.connect().execution_options(stream_results=True)\n",
    "    parts = []\n",
    "\n",
    "    for part in pd.read_sql(query, conn, chunksize=150000):\n",
    "        parts.append(part)\n",
    "    conn.close()\n",
    "    return pd.concat(parts, ignore_index=True)\n",
    "\n",
    "like_post_q = \"\"\"\n",
    "        SELECT distinct post_id, user_id\n",
    "        FROM public.feed_data\n",
    "        where action='like'\"\"\"\n",
    "liked_posts = load_data_sql(like_post_q)"
   ]
  },
  {
   "cell_type": "code",
   "execution_count": 10,
   "id": "d6a54db7",
   "metadata": {
    "ExecuteTime": {
     "end_time": "2022-09-02T08:13:57.054951Z",
     "start_time": "2022-09-02T07:14:45.825319Z"
    }
   },
   "outputs": [
    {
     "name": "stderr",
     "output_type": "stream",
     "text": [
      "100%|██████████████████████████████████████████████████████████████████████████| 163205/163205 [59:11<00:00, 45.96it/s]\n"
     ]
    }
   ],
   "source": [
    "#Cоздание векторов пользователей, по предпочтениям тем (лайки)\n",
    "\n",
    "df_vec_users_like = pd.DataFrame()\n",
    "list_of_user_id =  user_info.user_id.values\n",
    "for uid in tqdm(list_of_user_id):\n",
    "    L_U = liked_posts[liked_posts.user_id == uid]\n",
    "    df_vu = pd.merge(L_U, posts_info[['post_id','topic']], on='post_id', how='left')\n",
    "    vecs = pd.DataFrame(round(df_vu[['topic']].value_counts()/len(df_vu), 3)).T\n",
    "    vecs['user_id'] = uid\n",
    "    df_vec_users_like = pd.concat((df_vec_users_like,vecs),axis=0)\n",
    "    \n",
    "df_vec_users_like = df_vec_users_like.rename(columns={'movie': 'u_vl_movie', 'covid':'u_vl_covid', 'sport':'u_vl_sport',\n",
    "                                                      'entertainment':'u_vl_entertainment', 'politics':'u_vl_politics', \n",
    "                                                     'business':'u_vl_business', 'tech':'u_vl_tech'})"
   ]
  },
  {
   "cell_type": "code",
   "execution_count": null,
   "id": "b1c0effc",
   "metadata": {
    "ExecuteTime": {
     "end_time": "2022-09-02T08:13:59.484949Z",
     "start_time": "2022-09-02T08:13:57.056951Z"
    }
   },
   "outputs": [],
   "source": [
    "user_info = pd.merge(user_info, df_vec_users_like, on='user_id', how='left')"
   ]
  },
  {
   "cell_type": "markdown",
   "id": "29a0cb4b",
   "metadata": {
    "ExecuteTime": {
     "end_time": "2022-08-14T13:13:46.091444Z",
     "start_time": "2022-08-14T13:13:44.454444Z"
    },
    "scrolled": true
   },
   "source": [
    "user_info.to_csv('A_features_users.csv', index=False)\n",
    "\n",
    "https://drive.google.com/file/d/1qvpO9z-kPrYMCqbt-wdsDJcs0BAru9A8/view?usp=sharing"
   ]
  },
  {
   "cell_type": "code",
   "execution_count": 12,
   "id": "80dcff56",
   "metadata": {
    "ExecuteTime": {
     "end_time": "2022-09-02T08:15:12.690951Z",
     "start_time": "2022-09-02T08:15:12.373951Z"
    },
    "scrolled": false
   },
   "outputs": [
    {
     "data": {
      "text/html": [
       "<div>\n",
       "<style scoped>\n",
       "    .dataframe tbody tr th:only-of-type {\n",
       "        vertical-align: middle;\n",
       "    }\n",
       "\n",
       "    .dataframe tbody tr th {\n",
       "        vertical-align: top;\n",
       "    }\n",
       "\n",
       "    .dataframe thead th {\n",
       "        text-align: right;\n",
       "    }\n",
       "</style>\n",
       "<table border=\"1\" class=\"dataframe\">\n",
       "  <thead>\n",
       "    <tr style=\"text-align: right;\">\n",
       "      <th></th>\n",
       "      <th>user_id</th>\n",
       "      <th>age</th>\n",
       "      <th>gender_1</th>\n",
       "      <th>code_country</th>\n",
       "      <th>code_city</th>\n",
       "      <th>exp_group_1</th>\n",
       "      <th>exp_group_2</th>\n",
       "      <th>exp_group_3</th>\n",
       "      <th>exp_group_4</th>\n",
       "      <th>os_iOS</th>\n",
       "      <th>source_organic</th>\n",
       "      <th>u_vl_movie</th>\n",
       "      <th>u_vl_covid</th>\n",
       "      <th>u_vl_sport</th>\n",
       "      <th>u_vl_entertainment</th>\n",
       "      <th>u_vl_politics</th>\n",
       "      <th>u_vl_business</th>\n",
       "      <th>u_vl_tech</th>\n",
       "    </tr>\n",
       "  </thead>\n",
       "  <tbody>\n",
       "    <tr>\n",
       "      <th>0</th>\n",
       "      <td>200</td>\n",
       "      <td>34</td>\n",
       "      <td>1</td>\n",
       "      <td>7.0</td>\n",
       "      <td>651.0</td>\n",
       "      <td>0</td>\n",
       "      <td>0</td>\n",
       "      <td>1</td>\n",
       "      <td>0</td>\n",
       "      <td>0</td>\n",
       "      <td>0</td>\n",
       "      <td>0.349</td>\n",
       "      <td>0.209</td>\n",
       "      <td>0.163</td>\n",
       "      <td>0.093</td>\n",
       "      <td>0.093</td>\n",
       "      <td>0.047</td>\n",
       "      <td>0.047</td>\n",
       "    </tr>\n",
       "    <tr>\n",
       "      <th>1</th>\n",
       "      <td>201</td>\n",
       "      <td>37</td>\n",
       "      <td>0</td>\n",
       "      <td>7.0</td>\n",
       "      <td>2.0</td>\n",
       "      <td>0</td>\n",
       "      <td>0</td>\n",
       "      <td>0</td>\n",
       "      <td>0</td>\n",
       "      <td>0</td>\n",
       "      <td>0</td>\n",
       "      <td>0.569</td>\n",
       "      <td>0.190</td>\n",
       "      <td>0.034</td>\n",
       "      <td>0.069</td>\n",
       "      <td>0.017</td>\n",
       "      <td>0.052</td>\n",
       "      <td>0.069</td>\n",
       "    </tr>\n",
       "    <tr>\n",
       "      <th>2</th>\n",
       "      <td>202</td>\n",
       "      <td>17</td>\n",
       "      <td>1</td>\n",
       "      <td>7.0</td>\n",
       "      <td>2931.0</td>\n",
       "      <td>0</td>\n",
       "      <td>0</td>\n",
       "      <td>0</td>\n",
       "      <td>1</td>\n",
       "      <td>0</td>\n",
       "      <td>0</td>\n",
       "      <td>0.402</td>\n",
       "      <td>0.253</td>\n",
       "      <td>0.149</td>\n",
       "      <td>0.011</td>\n",
       "      <td>0.172</td>\n",
       "      <td>0.011</td>\n",
       "      <td>0.000</td>\n",
       "    </tr>\n",
       "    <tr>\n",
       "      <th>3</th>\n",
       "      <td>203</td>\n",
       "      <td>18</td>\n",
       "      <td>0</td>\n",
       "      <td>7.0</td>\n",
       "      <td>1953.0</td>\n",
       "      <td>1</td>\n",
       "      <td>0</td>\n",
       "      <td>0</td>\n",
       "      <td>0</td>\n",
       "      <td>1</td>\n",
       "      <td>0</td>\n",
       "      <td>0.410</td>\n",
       "      <td>0.213</td>\n",
       "      <td>0.180</td>\n",
       "      <td>0.033</td>\n",
       "      <td>0.082</td>\n",
       "      <td>0.049</td>\n",
       "      <td>0.033</td>\n",
       "    </tr>\n",
       "    <tr>\n",
       "      <th>4</th>\n",
       "      <td>204</td>\n",
       "      <td>36</td>\n",
       "      <td>0</td>\n",
       "      <td>7.0</td>\n",
       "      <td>125.0</td>\n",
       "      <td>0</td>\n",
       "      <td>0</td>\n",
       "      <td>1</td>\n",
       "      <td>0</td>\n",
       "      <td>0</td>\n",
       "      <td>0</td>\n",
       "      <td>0.391</td>\n",
       "      <td>0.348</td>\n",
       "      <td>0.087</td>\n",
       "      <td>0.043</td>\n",
       "      <td>0.043</td>\n",
       "      <td>0.043</td>\n",
       "      <td>0.043</td>\n",
       "    </tr>\n",
       "    <tr>\n",
       "      <th>...</th>\n",
       "      <td>...</td>\n",
       "      <td>...</td>\n",
       "      <td>...</td>\n",
       "      <td>...</td>\n",
       "      <td>...</td>\n",
       "      <td>...</td>\n",
       "      <td>...</td>\n",
       "      <td>...</td>\n",
       "      <td>...</td>\n",
       "      <td>...</td>\n",
       "      <td>...</td>\n",
       "      <td>...</td>\n",
       "      <td>...</td>\n",
       "      <td>...</td>\n",
       "      <td>...</td>\n",
       "      <td>...</td>\n",
       "      <td>...</td>\n",
       "      <td>...</td>\n",
       "    </tr>\n",
       "    <tr>\n",
       "      <th>163200</th>\n",
       "      <td>168548</td>\n",
       "      <td>36</td>\n",
       "      <td>0</td>\n",
       "      <td>7.0</td>\n",
       "      <td>1124.0</td>\n",
       "      <td>0</td>\n",
       "      <td>0</td>\n",
       "      <td>0</td>\n",
       "      <td>1</td>\n",
       "      <td>0</td>\n",
       "      <td>1</td>\n",
       "      <td>0.350</td>\n",
       "      <td>0.300</td>\n",
       "      <td>0.000</td>\n",
       "      <td>0.100</td>\n",
       "      <td>0.050</td>\n",
       "      <td>0.050</td>\n",
       "      <td>0.150</td>\n",
       "    </tr>\n",
       "    <tr>\n",
       "      <th>163201</th>\n",
       "      <td>168549</td>\n",
       "      <td>18</td>\n",
       "      <td>0</td>\n",
       "      <td>7.0</td>\n",
       "      <td>3287.0</td>\n",
       "      <td>0</td>\n",
       "      <td>1</td>\n",
       "      <td>0</td>\n",
       "      <td>0</td>\n",
       "      <td>0</td>\n",
       "      <td>1</td>\n",
       "      <td>0.273</td>\n",
       "      <td>0.227</td>\n",
       "      <td>0.182</td>\n",
       "      <td>0.000</td>\n",
       "      <td>0.318</td>\n",
       "      <td>0.000</td>\n",
       "      <td>0.000</td>\n",
       "    </tr>\n",
       "    <tr>\n",
       "      <th>163202</th>\n",
       "      <td>168550</td>\n",
       "      <td>41</td>\n",
       "      <td>1</td>\n",
       "      <td>7.0</td>\n",
       "      <td>3698.0</td>\n",
       "      <td>0</td>\n",
       "      <td>0</td>\n",
       "      <td>0</td>\n",
       "      <td>1</td>\n",
       "      <td>0</td>\n",
       "      <td>1</td>\n",
       "      <td>0.579</td>\n",
       "      <td>0.263</td>\n",
       "      <td>0.026</td>\n",
       "      <td>0.053</td>\n",
       "      <td>0.000</td>\n",
       "      <td>0.026</td>\n",
       "      <td>0.053</td>\n",
       "    </tr>\n",
       "    <tr>\n",
       "      <th>163203</th>\n",
       "      <td>168551</td>\n",
       "      <td>38</td>\n",
       "      <td>0</td>\n",
       "      <td>7.0</td>\n",
       "      <td>1953.0</td>\n",
       "      <td>0</td>\n",
       "      <td>0</td>\n",
       "      <td>1</td>\n",
       "      <td>0</td>\n",
       "      <td>1</td>\n",
       "      <td>1</td>\n",
       "      <td>0.447</td>\n",
       "      <td>0.340</td>\n",
       "      <td>0.085</td>\n",
       "      <td>0.064</td>\n",
       "      <td>0.021</td>\n",
       "      <td>0.021</td>\n",
       "      <td>0.021</td>\n",
       "    </tr>\n",
       "    <tr>\n",
       "      <th>163204</th>\n",
       "      <td>168552</td>\n",
       "      <td>16</td>\n",
       "      <td>1</td>\n",
       "      <td>7.0</td>\n",
       "      <td>1061.0</td>\n",
       "      <td>0</td>\n",
       "      <td>0</td>\n",
       "      <td>0</td>\n",
       "      <td>1</td>\n",
       "      <td>0</td>\n",
       "      <td>1</td>\n",
       "      <td>0.308</td>\n",
       "      <td>0.308</td>\n",
       "      <td>0.385</td>\n",
       "      <td>0.000</td>\n",
       "      <td>0.000</td>\n",
       "      <td>0.000</td>\n",
       "      <td>0.000</td>\n",
       "    </tr>\n",
       "  </tbody>\n",
       "</table>\n",
       "<p>163205 rows × 18 columns</p>\n",
       "</div>"
      ],
      "text/plain": [
       "        user_id  age  gender_1  code_country  code_city  exp_group_1  \\\n",
       "0           200   34         1           7.0      651.0            0   \n",
       "1           201   37         0           7.0        2.0            0   \n",
       "2           202   17         1           7.0     2931.0            0   \n",
       "3           203   18         0           7.0     1953.0            1   \n",
       "4           204   36         0           7.0      125.0            0   \n",
       "...         ...  ...       ...           ...        ...          ...   \n",
       "163200   168548   36         0           7.0     1124.0            0   \n",
       "163201   168549   18         0           7.0     3287.0            0   \n",
       "163202   168550   41         1           7.0     3698.0            0   \n",
       "163203   168551   38         0           7.0     1953.0            0   \n",
       "163204   168552   16         1           7.0     1061.0            0   \n",
       "\n",
       "        exp_group_2  exp_group_3  exp_group_4  os_iOS  source_organic  \\\n",
       "0                 0            1            0       0               0   \n",
       "1                 0            0            0       0               0   \n",
       "2                 0            0            1       0               0   \n",
       "3                 0            0            0       1               0   \n",
       "4                 0            1            0       0               0   \n",
       "...             ...          ...          ...     ...             ...   \n",
       "163200            0            0            1       0               1   \n",
       "163201            1            0            0       0               1   \n",
       "163202            0            0            1       0               1   \n",
       "163203            0            1            0       1               1   \n",
       "163204            0            0            1       0               1   \n",
       "\n",
       "        u_vl_movie  u_vl_covid  u_vl_sport  u_vl_entertainment  u_vl_politics  \\\n",
       "0            0.349       0.209       0.163               0.093          0.093   \n",
       "1            0.569       0.190       0.034               0.069          0.017   \n",
       "2            0.402       0.253       0.149               0.011          0.172   \n",
       "3            0.410       0.213       0.180               0.033          0.082   \n",
       "4            0.391       0.348       0.087               0.043          0.043   \n",
       "...            ...         ...         ...                 ...            ...   \n",
       "163200       0.350       0.300       0.000               0.100          0.050   \n",
       "163201       0.273       0.227       0.182               0.000          0.318   \n",
       "163202       0.579       0.263       0.026               0.053          0.000   \n",
       "163203       0.447       0.340       0.085               0.064          0.021   \n",
       "163204       0.308       0.308       0.385               0.000          0.000   \n",
       "\n",
       "        u_vl_business  u_vl_tech  \n",
       "0               0.047      0.047  \n",
       "1               0.052      0.069  \n",
       "2               0.011      0.000  \n",
       "3               0.049      0.033  \n",
       "4               0.043      0.043  \n",
       "...               ...        ...  \n",
       "163200          0.050      0.150  \n",
       "163201          0.000      0.000  \n",
       "163202          0.026      0.053  \n",
       "163203          0.021      0.021  \n",
       "163204          0.000      0.000  \n",
       "\n",
       "[163205 rows x 18 columns]"
      ]
     },
     "execution_count": 12,
     "metadata": {},
     "output_type": "execute_result"
    }
   ],
   "source": [
    "user_info"
   ]
  },
  {
   "cell_type": "markdown",
   "id": "79f73e4e",
   "metadata": {},
   "source": [
    "### Фичи по постам"
   ]
  },
  {
   "cell_type": "code",
   "execution_count": 13,
   "id": "aa926702",
   "metadata": {
    "ExecuteTime": {
     "end_time": "2022-09-02T08:15:29.803950Z",
     "start_time": "2022-09-02T08:15:29.787951Z"
    }
   },
   "outputs": [],
   "source": [
    "# Функции убирающие ссылки, эмодзи и смайлики\n",
    "def remove_urls(text):\n",
    "    url_pattern = re.compile(r'https?://\\S+|www\\.\\S+')\n",
    "    return url_pattern.sub(r'', text)\n",
    "\n",
    "def remove_emoji(string):\n",
    "    emoji_pattern = re.compile(\"[\"\n",
    "                           u\"\\U0001F600-\\U0001F64F\" # emoticons\n",
    "                           u\"\\U0001F300-\\U0001F5FF\" # symbols & pictographs\n",
    "                           u\"\\U0001F680-\\U0001F6FF\" # transport & map symbols\n",
    "                           u\"\\U0001F1E0-\\U0001F1FF\" # flags (iOS)\n",
    "                           u\"\\U00002702-\\U000027B0\"\n",
    "                           u\"\\U000024C2-\\U0001F251\"\n",
    "                           u\"\\U0001F912-\\U0001F923\"\n",
    "                           u\"\\U0001F9A0\"\n",
    "                           u\"\\U0001F9D0\"\n",
    "                           u\"\\U0001FA78\"\n",
    "                           u\"\\U0001F9FC\"\n",
    "                           \"]+\", flags=re.UNICODE)\n",
    "    return emoji_pattern.sub(r'', string)\n",
    "\n",
    "with open('Emoticon_Dict.p', 'rb') as fp:\n",
    "    Emoticon_Dict = pickle.load(fp)\n",
    "\n",
    "def remove_emoticons(text):\n",
    "    emoticon_pattern = re.compile(u'(' + u'|'.join(k for k in Emoticon_Dict) + u')')\n",
    "    return emoticon_pattern.sub(r'', text)"
   ]
  },
  {
   "cell_type": "code",
   "execution_count": 14,
   "id": "b4cc4bf8",
   "metadata": {
    "ExecuteTime": {
     "end_time": "2022-09-02T08:15:48.879950Z",
     "start_time": "2022-09-02T08:15:30.910950Z"
    }
   },
   "outputs": [
    {
     "data": {
      "text/html": [
       "<div>\n",
       "<style scoped>\n",
       "    .dataframe tbody tr th:only-of-type {\n",
       "        vertical-align: middle;\n",
       "    }\n",
       "\n",
       "    .dataframe tbody tr th {\n",
       "        vertical-align: top;\n",
       "    }\n",
       "\n",
       "    .dataframe thead th {\n",
       "        text-align: right;\n",
       "    }\n",
       "</style>\n",
       "<table border=\"1\" class=\"dataframe\">\n",
       "  <thead>\n",
       "    <tr style=\"text-align: right;\">\n",
       "      <th></th>\n",
       "      <th>post_id</th>\n",
       "      <th>text</th>\n",
       "      <th>topic</th>\n",
       "    </tr>\n",
       "  </thead>\n",
       "  <tbody>\n",
       "    <tr>\n",
       "      <th>0</th>\n",
       "      <td>1</td>\n",
       "      <td>[economi, face, major, risk, manufactur, secto...</td>\n",
       "      <td>business</td>\n",
       "    </tr>\n",
       "    <tr>\n",
       "      <th>1</th>\n",
       "      <td>2</td>\n",
       "      <td>[aid, climat, davo, agenda, climat, chang, fig...</td>\n",
       "      <td>business</td>\n",
       "    </tr>\n",
       "    <tr>\n",
       "      <th>2</th>\n",
       "      <td>3</td>\n",
       "      <td>[asian, quak, hit, european, share, share, eur...</td>\n",
       "      <td>business</td>\n",
       "    </tr>\n",
       "    <tr>\n",
       "      <th>3</th>\n",
       "      <td>4</td>\n",
       "      <td>[india, power, share, jump, debut, share, indi...</td>\n",
       "      <td>business</td>\n",
       "    </tr>\n",
       "    <tr>\n",
       "      <th>4</th>\n",
       "      <td>5</td>\n",
       "      <td>[lacroix, label, bought, firm, luxuri, good, g...</td>\n",
       "      <td>business</td>\n",
       "    </tr>\n",
       "  </tbody>\n",
       "</table>\n",
       "</div>"
      ],
      "text/plain": [
       "   post_id                                               text     topic\n",
       "0        1  [economi, face, major, risk, manufactur, secto...  business\n",
       "1        2  [aid, climat, davo, agenda, climat, chang, fig...  business\n",
       "2        3  [asian, quak, hit, european, share, share, eur...  business\n",
       "3        4  [india, power, share, jump, debut, share, indi...  business\n",
       "4        5  [lacroix, label, bought, firm, luxuri, good, g...  business"
      ]
     },
     "execution_count": 14,
     "metadata": {},
     "output_type": "execute_result"
    }
   ],
   "source": [
    "posts_info['text'] = posts_info['text'].apply(remove_urls).apply(remove_emoji).apply(remove_emoticons).apply(preprocess_string)\n",
    "posts_info.head()\n"
   ]
  },
  {
   "cell_type": "code",
   "execution_count": 15,
   "id": "37238882",
   "metadata": {
    "ExecuteTime": {
     "end_time": "2022-09-02T08:16:46.144949Z",
     "start_time": "2022-09-02T08:15:48.881950Z"
    }
   },
   "outputs": [
    {
     "data": {
      "text/plain": [
       "(7346217, 7527540)"
      ]
     },
     "execution_count": 15,
     "metadata": {},
     "output_type": "execute_result"
    }
   ],
   "source": [
    "# Обучаем Fasttext на всех текстах постов\n",
    "vec_size = 80\n",
    "model_FT = FastText(vector_size=vec_size, window=10, min_count=1, workers=8, sg=1)\n",
    "model_FT.build_vocab(corpus_iterable=posts_info.text)\n",
    "model_FT.train(corpus_iterable=posts_info.text, total_examples=len(posts_info.text), epochs=10)"
   ]
  },
  {
   "cell_type": "code",
   "execution_count": 16,
   "id": "b0db5ece",
   "metadata": {
    "ExecuteTime": {
     "end_time": "2022-09-02T08:17:07.456949Z",
     "start_time": "2022-09-02T08:16:46.146951Z"
    }
   },
   "outputs": [],
   "source": [
    "# Создеаем векторное представление постов\n",
    "cols = []\n",
    "for i in range(vec_size):\n",
    "    cols.append(f'Vec_text_{i}')\n",
    "    \n",
    "for j in range(len(posts_info.text)):\n",
    "    for i in range(len(posts_info.text[j])):\n",
    "        if i == 0:\n",
    "            first = model_FT.wv.get_vector(posts_info.text[j][i], norm=False)\n",
    "        else:\n",
    "            sec = model_FT.wv.get_vector(posts_info.text[j][i], norm=False)\n",
    "            first = first + sec\n",
    "    if j == 0:\n",
    "        x = pd.DataFrame(first.reshape(1, -1))\n",
    "    else:\n",
    "        y = pd.DataFrame(first.reshape(1, -1))\n",
    "        x = pd.concat((x,y),axis=0)\n",
    "\n",
    "Vec_of_text = x.set_axis(cols, axis=1, inplace=False).reset_index().drop('index',axis=1)"
   ]
  },
  {
   "cell_type": "code",
   "execution_count": 17,
   "id": "ecd8e4ce",
   "metadata": {
    "ExecuteTime": {
     "end_time": "2022-09-02T08:17:07.471950Z",
     "start_time": "2022-09-02T08:17:07.459951Z"
    }
   },
   "outputs": [],
   "source": [
    "posts_info = pd.concat((posts_info, Vec_of_text),axis=1).drop('text', axis=1)"
   ]
  },
  {
   "cell_type": "code",
   "execution_count": 18,
   "id": "dbb38ac2",
   "metadata": {
    "ExecuteTime": {
     "end_time": "2022-09-02T08:17:15.429950Z",
     "start_time": "2022-09-02T08:17:07.473953Z"
    }
   },
   "outputs": [],
   "source": [
    "# Что лайкают больше\n",
    "top_of_posts = pd.read_sql(\n",
    "        \"\"\"SELECT f.post_id, COUNT(f.post_id)\n",
    "        FROM feed_action f\n",
    "        WHERE f.action = 'like'\n",
    "        GROUP BY f.post_id\n",
    "        ORDER BY COUNT(f.post_id) DESC\"\"\",\n",
    "\n",
    "        con=\"postgresql://\" + POSTGRES_USER + \":\" + POSTGRES_PASSWORD + \"@\"\n",
    "        + str(POSTGRES_HOST) + \":\" + POSTGRES_PORT + \"/\" + POSTGRES_DATABASE)"
   ]
  },
  {
   "cell_type": "code",
   "execution_count": 19,
   "id": "cf0be191",
   "metadata": {
    "ExecuteTime": {
     "end_time": "2022-09-02T08:17:15.445951Z",
     "start_time": "2022-09-02T08:17:15.431952Z"
    }
   },
   "outputs": [],
   "source": [
    "posts_info = pd.merge(posts_info, top_of_posts, on='post_id', how='left')\n"
   ]
  },
  {
   "cell_type": "code",
   "execution_count": 20,
   "id": "bfa31b26",
   "metadata": {
    "ExecuteTime": {
     "end_time": "2022-09-02T08:17:15.461950Z",
     "start_time": "2022-09-02T08:17:15.447951Z"
    }
   },
   "outputs": [],
   "source": [
    "posts_info = posts_info.fillna(0)"
   ]
  },
  {
   "cell_type": "code",
   "execution_count": 21,
   "id": "dfb85b5c",
   "metadata": {
    "ExecuteTime": {
     "end_time": "2022-09-02T08:17:15.477950Z",
     "start_time": "2022-09-02T08:17:15.463951Z"
    }
   },
   "outputs": [],
   "source": [
    "one_hot = pd.get_dummies(posts_info['topic'], prefix='topic', drop_first=True)\n",
    "posts_info = pd.concat((posts_info.drop('topic', axis=1), one_hot), axis=1)"
   ]
  },
  {
   "cell_type": "markdown",
   "id": "585938ad",
   "metadata": {
    "ExecuteTime": {
     "end_time": "2022-08-14T13:54:57.010731Z",
     "start_time": "2022-08-14T13:54:56.421731Z"
    }
   },
   "source": [
    "posts_info.round(3).to_csv('A_features_posts.csv', index=False)\n",
    "\n",
    "https://drive.google.com/file/d/1dl5cFOrXh1C6MlNSAhAoj5sOnlVRkIvF/view?usp=sharing"
   ]
  },
  {
   "cell_type": "code",
   "execution_count": 22,
   "id": "9afc6c82",
   "metadata": {
    "ExecuteTime": {
     "end_time": "2022-09-02T08:17:15.621950Z",
     "start_time": "2022-09-02T08:17:15.479951Z"
    }
   },
   "outputs": [
    {
     "data": {
      "text/html": [
       "<div>\n",
       "<style scoped>\n",
       "    .dataframe tbody tr th:only-of-type {\n",
       "        vertical-align: middle;\n",
       "    }\n",
       "\n",
       "    .dataframe tbody tr th {\n",
       "        vertical-align: top;\n",
       "    }\n",
       "\n",
       "    .dataframe thead th {\n",
       "        text-align: right;\n",
       "    }\n",
       "</style>\n",
       "<table border=\"1\" class=\"dataframe\">\n",
       "  <thead>\n",
       "    <tr style=\"text-align: right;\">\n",
       "      <th></th>\n",
       "      <th>post_id</th>\n",
       "      <th>Vec_text_0</th>\n",
       "      <th>Vec_text_1</th>\n",
       "      <th>Vec_text_2</th>\n",
       "      <th>Vec_text_3</th>\n",
       "      <th>Vec_text_4</th>\n",
       "      <th>Vec_text_5</th>\n",
       "      <th>Vec_text_6</th>\n",
       "      <th>Vec_text_7</th>\n",
       "      <th>Vec_text_8</th>\n",
       "      <th>...</th>\n",
       "      <th>Vec_text_77</th>\n",
       "      <th>Vec_text_78</th>\n",
       "      <th>Vec_text_79</th>\n",
       "      <th>count</th>\n",
       "      <th>topic_covid</th>\n",
       "      <th>topic_entertainment</th>\n",
       "      <th>topic_movie</th>\n",
       "      <th>topic_politics</th>\n",
       "      <th>topic_sport</th>\n",
       "      <th>topic_tech</th>\n",
       "    </tr>\n",
       "  </thead>\n",
       "  <tbody>\n",
       "    <tr>\n",
       "      <th>0</th>\n",
       "      <td>1</td>\n",
       "      <td>87.766</td>\n",
       "      <td>20.662</td>\n",
       "      <td>-36.691</td>\n",
       "      <td>54.717</td>\n",
       "      <td>23.386</td>\n",
       "      <td>33.048</td>\n",
       "      <td>78.325</td>\n",
       "      <td>62.458</td>\n",
       "      <td>-9.297</td>\n",
       "      <td>...</td>\n",
       "      <td>-3.404</td>\n",
       "      <td>108.093</td>\n",
       "      <td>51.722</td>\n",
       "      <td>160.0</td>\n",
       "      <td>0</td>\n",
       "      <td>0</td>\n",
       "      <td>0</td>\n",
       "      <td>0</td>\n",
       "      <td>0</td>\n",
       "      <td>0</td>\n",
       "    </tr>\n",
       "    <tr>\n",
       "      <th>1</th>\n",
       "      <td>2</td>\n",
       "      <td>149.636</td>\n",
       "      <td>26.142</td>\n",
       "      <td>15.669</td>\n",
       "      <td>36.574</td>\n",
       "      <td>19.599</td>\n",
       "      <td>52.482</td>\n",
       "      <td>65.318</td>\n",
       "      <td>84.862</td>\n",
       "      <td>-20.980</td>\n",
       "      <td>...</td>\n",
       "      <td>-9.504</td>\n",
       "      <td>138.243</td>\n",
       "      <td>17.951</td>\n",
       "      <td>3.0</td>\n",
       "      <td>0</td>\n",
       "      <td>0</td>\n",
       "      <td>0</td>\n",
       "      <td>0</td>\n",
       "      <td>0</td>\n",
       "      <td>0</td>\n",
       "    </tr>\n",
       "    <tr>\n",
       "      <th>2</th>\n",
       "      <td>3</td>\n",
       "      <td>155.913</td>\n",
       "      <td>38.147</td>\n",
       "      <td>-42.053</td>\n",
       "      <td>109.291</td>\n",
       "      <td>18.257</td>\n",
       "      <td>49.829</td>\n",
       "      <td>91.294</td>\n",
       "      <td>113.674</td>\n",
       "      <td>1.392</td>\n",
       "      <td>...</td>\n",
       "      <td>-29.664</td>\n",
       "      <td>200.575</td>\n",
       "      <td>83.684</td>\n",
       "      <td>257.0</td>\n",
       "      <td>0</td>\n",
       "      <td>0</td>\n",
       "      <td>0</td>\n",
       "      <td>0</td>\n",
       "      <td>0</td>\n",
       "      <td>0</td>\n",
       "    </tr>\n",
       "    <tr>\n",
       "      <th>3</th>\n",
       "      <td>4</td>\n",
       "      <td>57.984</td>\n",
       "      <td>21.350</td>\n",
       "      <td>-19.699</td>\n",
       "      <td>25.228</td>\n",
       "      <td>11.420</td>\n",
       "      <td>16.817</td>\n",
       "      <td>16.417</td>\n",
       "      <td>46.737</td>\n",
       "      <td>-2.478</td>\n",
       "      <td>...</td>\n",
       "      <td>-4.273</td>\n",
       "      <td>62.296</td>\n",
       "      <td>35.713</td>\n",
       "      <td>849.0</td>\n",
       "      <td>0</td>\n",
       "      <td>0</td>\n",
       "      <td>0</td>\n",
       "      <td>0</td>\n",
       "      <td>0</td>\n",
       "      <td>0</td>\n",
       "    </tr>\n",
       "    <tr>\n",
       "      <th>4</th>\n",
       "      <td>5</td>\n",
       "      <td>61.760</td>\n",
       "      <td>16.212</td>\n",
       "      <td>-10.093</td>\n",
       "      <td>20.166</td>\n",
       "      <td>22.286</td>\n",
       "      <td>8.268</td>\n",
       "      <td>18.892</td>\n",
       "      <td>26.645</td>\n",
       "      <td>-1.932</td>\n",
       "      <td>...</td>\n",
       "      <td>6.793</td>\n",
       "      <td>43.368</td>\n",
       "      <td>3.832</td>\n",
       "      <td>6.0</td>\n",
       "      <td>0</td>\n",
       "      <td>0</td>\n",
       "      <td>0</td>\n",
       "      <td>0</td>\n",
       "      <td>0</td>\n",
       "      <td>0</td>\n",
       "    </tr>\n",
       "    <tr>\n",
       "      <th>...</th>\n",
       "      <td>...</td>\n",
       "      <td>...</td>\n",
       "      <td>...</td>\n",
       "      <td>...</td>\n",
       "      <td>...</td>\n",
       "      <td>...</td>\n",
       "      <td>...</td>\n",
       "      <td>...</td>\n",
       "      <td>...</td>\n",
       "      <td>...</td>\n",
       "      <td>...</td>\n",
       "      <td>...</td>\n",
       "      <td>...</td>\n",
       "      <td>...</td>\n",
       "      <td>...</td>\n",
       "      <td>...</td>\n",
       "      <td>...</td>\n",
       "      <td>...</td>\n",
       "      <td>...</td>\n",
       "      <td>...</td>\n",
       "      <td>...</td>\n",
       "    </tr>\n",
       "    <tr>\n",
       "      <th>7018</th>\n",
       "      <td>7315</td>\n",
       "      <td>28.210</td>\n",
       "      <td>-2.129</td>\n",
       "      <td>2.509</td>\n",
       "      <td>22.790</td>\n",
       "      <td>5.948</td>\n",
       "      <td>1.768</td>\n",
       "      <td>14.273</td>\n",
       "      <td>5.207</td>\n",
       "      <td>1.158</td>\n",
       "      <td>...</td>\n",
       "      <td>-5.950</td>\n",
       "      <td>29.843</td>\n",
       "      <td>-6.882</td>\n",
       "      <td>1051.0</td>\n",
       "      <td>0</td>\n",
       "      <td>0</td>\n",
       "      <td>1</td>\n",
       "      <td>0</td>\n",
       "      <td>0</td>\n",
       "      <td>0</td>\n",
       "    </tr>\n",
       "    <tr>\n",
       "      <th>7019</th>\n",
       "      <td>7316</td>\n",
       "      <td>25.791</td>\n",
       "      <td>-7.369</td>\n",
       "      <td>-0.869</td>\n",
       "      <td>21.724</td>\n",
       "      <td>8.283</td>\n",
       "      <td>4.446</td>\n",
       "      <td>16.568</td>\n",
       "      <td>6.675</td>\n",
       "      <td>-4.316</td>\n",
       "      <td>...</td>\n",
       "      <td>-2.840</td>\n",
       "      <td>33.790</td>\n",
       "      <td>-2.509</td>\n",
       "      <td>205.0</td>\n",
       "      <td>0</td>\n",
       "      <td>0</td>\n",
       "      <td>1</td>\n",
       "      <td>0</td>\n",
       "      <td>0</td>\n",
       "      <td>0</td>\n",
       "    </tr>\n",
       "    <tr>\n",
       "      <th>7020</th>\n",
       "      <td>7317</td>\n",
       "      <td>22.255</td>\n",
       "      <td>-7.332</td>\n",
       "      <td>-1.487</td>\n",
       "      <td>15.902</td>\n",
       "      <td>4.051</td>\n",
       "      <td>6.223</td>\n",
       "      <td>11.315</td>\n",
       "      <td>4.534</td>\n",
       "      <td>-3.714</td>\n",
       "      <td>...</td>\n",
       "      <td>-2.914</td>\n",
       "      <td>28.138</td>\n",
       "      <td>-5.039</td>\n",
       "      <td>175.0</td>\n",
       "      <td>0</td>\n",
       "      <td>0</td>\n",
       "      <td>1</td>\n",
       "      <td>0</td>\n",
       "      <td>0</td>\n",
       "      <td>0</td>\n",
       "    </tr>\n",
       "    <tr>\n",
       "      <th>7021</th>\n",
       "      <td>7318</td>\n",
       "      <td>24.803</td>\n",
       "      <td>-3.590</td>\n",
       "      <td>2.517</td>\n",
       "      <td>17.639</td>\n",
       "      <td>3.824</td>\n",
       "      <td>4.156</td>\n",
       "      <td>14.896</td>\n",
       "      <td>3.095</td>\n",
       "      <td>1.002</td>\n",
       "      <td>...</td>\n",
       "      <td>-2.321</td>\n",
       "      <td>29.899</td>\n",
       "      <td>-4.422</td>\n",
       "      <td>301.0</td>\n",
       "      <td>0</td>\n",
       "      <td>0</td>\n",
       "      <td>1</td>\n",
       "      <td>0</td>\n",
       "      <td>0</td>\n",
       "      <td>0</td>\n",
       "    </tr>\n",
       "    <tr>\n",
       "      <th>7022</th>\n",
       "      <td>7319</td>\n",
       "      <td>30.785</td>\n",
       "      <td>-4.893</td>\n",
       "      <td>-1.429</td>\n",
       "      <td>21.030</td>\n",
       "      <td>6.881</td>\n",
       "      <td>6.217</td>\n",
       "      <td>19.340</td>\n",
       "      <td>8.875</td>\n",
       "      <td>-5.491</td>\n",
       "      <td>...</td>\n",
       "      <td>0.174</td>\n",
       "      <td>42.097</td>\n",
       "      <td>-6.786</td>\n",
       "      <td>20.0</td>\n",
       "      <td>0</td>\n",
       "      <td>0</td>\n",
       "      <td>1</td>\n",
       "      <td>0</td>\n",
       "      <td>0</td>\n",
       "      <td>0</td>\n",
       "    </tr>\n",
       "  </tbody>\n",
       "</table>\n",
       "<p>7023 rows × 88 columns</p>\n",
       "</div>"
      ],
      "text/plain": [
       "      post_id  Vec_text_0  Vec_text_1  Vec_text_2  Vec_text_3  Vec_text_4  \\\n",
       "0           1      87.766      20.662     -36.691      54.717      23.386   \n",
       "1           2     149.636      26.142      15.669      36.574      19.599   \n",
       "2           3     155.913      38.147     -42.053     109.291      18.257   \n",
       "3           4      57.984      21.350     -19.699      25.228      11.420   \n",
       "4           5      61.760      16.212     -10.093      20.166      22.286   \n",
       "...       ...         ...         ...         ...         ...         ...   \n",
       "7018     7315      28.210      -2.129       2.509      22.790       5.948   \n",
       "7019     7316      25.791      -7.369      -0.869      21.724       8.283   \n",
       "7020     7317      22.255      -7.332      -1.487      15.902       4.051   \n",
       "7021     7318      24.803      -3.590       2.517      17.639       3.824   \n",
       "7022     7319      30.785      -4.893      -1.429      21.030       6.881   \n",
       "\n",
       "      Vec_text_5  Vec_text_6  Vec_text_7  Vec_text_8  ...  Vec_text_77  \\\n",
       "0         33.048      78.325      62.458      -9.297  ...       -3.404   \n",
       "1         52.482      65.318      84.862     -20.980  ...       -9.504   \n",
       "2         49.829      91.294     113.674       1.392  ...      -29.664   \n",
       "3         16.817      16.417      46.737      -2.478  ...       -4.273   \n",
       "4          8.268      18.892      26.645      -1.932  ...        6.793   \n",
       "...          ...         ...         ...         ...  ...          ...   \n",
       "7018       1.768      14.273       5.207       1.158  ...       -5.950   \n",
       "7019       4.446      16.568       6.675      -4.316  ...       -2.840   \n",
       "7020       6.223      11.315       4.534      -3.714  ...       -2.914   \n",
       "7021       4.156      14.896       3.095       1.002  ...       -2.321   \n",
       "7022       6.217      19.340       8.875      -5.491  ...        0.174   \n",
       "\n",
       "      Vec_text_78  Vec_text_79   count  topic_covid  topic_entertainment  \\\n",
       "0         108.093       51.722   160.0            0                    0   \n",
       "1         138.243       17.951     3.0            0                    0   \n",
       "2         200.575       83.684   257.0            0                    0   \n",
       "3          62.296       35.713   849.0            0                    0   \n",
       "4          43.368        3.832     6.0            0                    0   \n",
       "...           ...          ...     ...          ...                  ...   \n",
       "7018       29.843       -6.882  1051.0            0                    0   \n",
       "7019       33.790       -2.509   205.0            0                    0   \n",
       "7020       28.138       -5.039   175.0            0                    0   \n",
       "7021       29.899       -4.422   301.0            0                    0   \n",
       "7022       42.097       -6.786    20.0            0                    0   \n",
       "\n",
       "      topic_movie  topic_politics  topic_sport  topic_tech  \n",
       "0               0               0            0           0  \n",
       "1               0               0            0           0  \n",
       "2               0               0            0           0  \n",
       "3               0               0            0           0  \n",
       "4               0               0            0           0  \n",
       "...           ...             ...          ...         ...  \n",
       "7018            1               0            0           0  \n",
       "7019            1               0            0           0  \n",
       "7020            1               0            0           0  \n",
       "7021            1               0            0           0  \n",
       "7022            1               0            0           0  \n",
       "\n",
       "[7023 rows x 88 columns]"
      ]
     },
     "execution_count": 22,
     "metadata": {},
     "output_type": "execute_result"
    }
   ],
   "source": [
    "posts_info"
   ]
  },
  {
   "cell_type": "markdown",
   "id": "7600b49e",
   "metadata": {},
   "source": [
    "### Создание train/test выборок"
   ]
  },
  {
   "cell_type": "code",
   "execution_count": null,
   "id": "41cb9927",
   "metadata": {
    "ExecuteTime": {
     "start_time": "2022-09-02T08:18:51.053Z"
    }
   },
   "outputs": [],
   "source": [
    "feed_data = pd.read_sql(\n",
    "    \"\"\"SELECT * FROM public.feed_data LIMIT 10000000\"\"\",\n",
    "    \n",
    "    con=\"postgresql://\" + POSTGRES_USER + \":\" + POSTGRES_PASSWORD + \"@\"\n",
    "        + str(POSTGRES_HOST) + \":\" + POSTGRES_PORT + \"/\" + POSTGRES_DATABASE)\n",
    "\n",
    "feed_data = feed_data[feed_data.action=='view'].drop('action', axis=1)\n",
    "feed_data.head()"
   ]
  },
  {
   "cell_type": "code",
   "execution_count": null,
   "id": "a5164a10",
   "metadata": {
    "ExecuteTime": {
     "start_time": "2022-09-02T08:18:51.343Z"
    }
   },
   "outputs": [],
   "source": [
    "feed_data"
   ]
  },
  {
   "cell_type": "code",
   "execution_count": null,
   "id": "1225ae79",
   "metadata": {
    "ExecuteTime": {
     "start_time": "2022-09-02T08:18:51.553Z"
    }
   },
   "outputs": [],
   "source": [
    "feed_data = feed_data.reset_index(drop=True)"
   ]
  },
  {
   "cell_type": "code",
   "execution_count": null,
   "id": "c940c31b",
   "metadata": {
    "ExecuteTime": {
     "start_time": "2022-09-02T08:18:51.787Z"
    }
   },
   "outputs": [],
   "source": [
    "feed_data['hour'] = pd.to_datetime(feed_data['timestamp']).apply(lambda x: x.hour)\n",
    "feed_data['month'] = pd.to_datetime(feed_data['timestamp']).apply(lambda x: x.month)\n",
    "feed_data['day'] = pd.to_datetime(feed_data['timestamp']).apply(lambda x: x.day)"
   ]
  },
  {
   "cell_type": "code",
   "execution_count": null,
   "id": "2efcea5c",
   "metadata": {
    "ExecuteTime": {
     "start_time": "2022-09-02T08:18:54.323Z"
    }
   },
   "outputs": [],
   "source": [
    "# Приходится разбивать на части, так как много оперативы требуется\n",
    "x = 1786215\n",
    "for i in tqdm(range(5)):\n",
    "    df = feed_data[0 + x * i : x + x * i]\n",
    "    df = pd.merge(df, posts_info, on='post_id', how='left')#.drop('post_id',axis=1)   \n",
    "    df = pd.merge(df, user_info, on='user_id', how='left')#.drop(['user_id'],axis=1)\n",
    "    df = df.set_index(['user_id', 'post_id'])\n",
    "    df[df.timestamp < '2021-12-15'].drop('timestamp', axis=1).drop('target', axis=1).to_csv(f'X_train_p{i+1}.csv', index=False)\n",
    "    df[df.timestamp < '2021-12-15'].drop('timestamp', axis=1)['target'].to_csv(f'y_train_p{i+1}.csv', index=False)\n",
    "    df[df.timestamp >= '2021-12-15'].drop('timestamp', axis=1).drop('target', axis=1).to_csv(f'X_test_p{i+1}.csv', index=False)\n",
    "    df[df.timestamp >= '2021-12-15'].drop('timestamp', axis=1)['target'].to_csv(f'y_test_p{i+1}.csv', index=False)"
   ]
  },
  {
   "cell_type": "markdown",
   "id": "d37af80b",
   "metadata": {},
   "source": [
    "## Обучение модели"
   ]
  },
  {
   "cell_type": "code",
   "execution_count": 4,
   "id": "82fbc450",
   "metadata": {
    "ExecuteTime": {
     "end_time": "2022-09-02T08:23:55.407950Z",
     "start_time": "2022-09-02T08:23:55.393950Z"
    }
   },
   "outputs": [],
   "source": [
    "def binary_accuracy(preds, y):\n",
    "    rounded_preds = torch.round(torch.sigmoid(preds))\n",
    "    correct = (rounded_preds == y).sum().float()\n",
    "    acc = correct / y.shape[0]\n",
    "    return acc\n",
    "\n",
    "\n",
    "def train(model, train_loader, optimizer, loss_fn, device):\n",
    "    model.train()\n",
    "\n",
    "    train_loss = 0\n",
    "    train_accuracy = 0\n",
    "\n",
    "    for x, y in tqdm(train_loader, desc='Train'):\n",
    "        x = x.to(device)\n",
    "        y = y.to(device)\n",
    "        optimizer.zero_grad()\n",
    "        \n",
    "        output = model(x)\n",
    "        loss = loss_fn(output, y)\n",
    "\n",
    "        train_loss += loss.item()\n",
    "        train_accuracy += binary_accuracy(output, y)\n",
    "        \n",
    "        \n",
    "        loss.backward()\n",
    "        optimizer.step()\n",
    "\n",
    "    train_loss /= len(train_loader)\n",
    "    train_accuracy /= len(train_loader)\n",
    "\n",
    "    return train_loss, train_accuracy.cpu()"
   ]
  },
  {
   "cell_type": "code",
   "execution_count": 17,
   "id": "1dea6175",
   "metadata": {
    "ExecuteTime": {
     "end_time": "2022-09-02T08:36:26.132950Z",
     "start_time": "2022-09-02T08:36:26.117950Z"
    }
   },
   "outputs": [],
   "source": [
    "@torch.inference_mode()\n",
    "def evaluate(model, valid_loader, loss_fn, device):\n",
    "    model.eval()\n",
    "\n",
    "    total_loss = 0\n",
    "    total_accuracy = 0\n",
    "\n",
    "    for x, y in tqdm(valid_loader, desc='Evaluation'):\n",
    "        x, y = x.to(device), y.to(device)\n",
    "\n",
    "        output = model(x)\n",
    "        loss = loss_fn(output, y)\n",
    "\n",
    "        total_loss += loss.item()\n",
    "        total_accuracy += binary_accuracy(output, y)\n",
    "        \n",
    "        \n",
    "    total_loss /= len(valid_loader)\n",
    "    total_accuracy /= len(valid_loader)\n",
    "\n",
    "    return total_loss, total_accuracy.cpu()"
   ]
  },
  {
   "cell_type": "code",
   "execution_count": 6,
   "id": "57ae9c36",
   "metadata": {
    "ExecuteTime": {
     "end_time": "2022-09-02T08:23:58.963949Z",
     "start_time": "2022-09-02T08:23:57.292951Z"
    }
   },
   "outputs": [],
   "source": [
    "def plot_stats(\n",
    "    train_loss: list[float],\n",
    "    valid_loss: list[float],\n",
    "    train_accuracy: list[float],\n",
    "    valid_accuracy: list[float],\n",
    "    title: str,\n",
    "):\n",
    "    plt.figure(figsize=(16, 8))\n",
    "\n",
    "    plt.title(title + \" loss\")\n",
    "\n",
    "    plt.plot(train_loss, label=\"Train loss\")\n",
    "    plt.plot(valid_loss, label=\"Valid loss\")\n",
    "    plt.legend()\n",
    "    plt.grid()\n",
    "\n",
    "    plt.show()\n",
    "\n",
    "    plt.figure(figsize=(16, 8))\n",
    "\n",
    "    plt.title(title + \" accuracy\")\n",
    "\n",
    "    plt.plot(train_accuracy, label=\"Train accuracy\")\n",
    "    plt.plot(valid_accuracy, label=\"Valid accuracy\")\n",
    "    plt.legend()\n",
    "    plt.grid()\n",
    "\n",
    "    plt.show()"
   ]
  },
  {
   "cell_type": "code",
   "execution_count": 7,
   "id": "a1e18ce9",
   "metadata": {
    "ExecuteTime": {
     "end_time": "2022-09-02T08:24:01.933951Z",
     "start_time": "2022-09-02T08:24:01.925950Z"
    }
   },
   "outputs": [],
   "source": [
    "class FC(nn.Module):\n",
    "    def __init__(self):\n",
    "        super(FC, self).__init__()\n",
    "        self.layer_1 = nn.Sequential(\n",
    "            nn.Linear(107, 256),\n",
    "            nn.ReLU(),\n",
    "            nn.BatchNorm1d(256)\n",
    "        )\n",
    "        self.layer_2 = nn.Sequential(\n",
    "            nn.Linear(256, 256),\n",
    "            nn.ReLU(),\n",
    "            nn.BatchNorm1d(256)\n",
    "        )\n",
    "        self.layer_3 = nn.Sequential(\n",
    "            nn.Linear(256, 256),\n",
    "            nn.ReLU(),\n",
    "            nn.BatchNorm1d(256)\n",
    "        )\n",
    "        self.layer_out = nn.Linear(256, 1)\n",
    "                \n",
    "        \n",
    "    def forward(self, x):\n",
    "        x = self.layer_1(x)\n",
    "        x = self.layer_2(x)\n",
    "        x = self.layer_3(x)\n",
    "        x = self.layer_out(x)\n",
    "        return x"
   ]
  },
  {
   "cell_type": "code",
   "execution_count": 8,
   "id": "9ee2085a",
   "metadata": {
    "ExecuteTime": {
     "end_time": "2022-09-02T08:26:29.212950Z",
     "start_time": "2022-09-02T08:24:04.204950Z"
    }
   },
   "outputs": [
    {
     "name": "stderr",
     "output_type": "stream",
     "text": [
      "100%|████████████████████████████████████████████████████████████████████████████████████| 4/4 [01:57<00:00, 29.31s/it]\n"
     ]
    }
   ],
   "source": [
    "X_train_t = torch.tensor(pd.read_csv('X_train_p1.csv').values, dtype=torch.float32)\n",
    "X_test_t = torch.tensor(pd.read_csv('X_test_p1.csv').values, dtype=torch.float32)\n",
    "y_train_t = torch.tensor(pd.read_csv('y_train_p1.csv').values, dtype=torch.float32)\n",
    "y_test_t = torch.tensor(pd.read_csv('y_test_p1.csv').values, dtype=torch.float32)\n",
    "for i in tqdm(range(2, 6)):\n",
    "    X_train_t = torch.cat((X_train_t, torch.tensor(pd.read_csv(f'X_train_p{i}.csv').values, dtype=torch.float32)), 0)\n",
    "    X_test_t = torch.cat((X_test_t, torch.tensor(pd.read_csv(f'X_test_p{i}.csv').values, dtype=torch.float32)), 0)\n",
    "    y_train_t = torch.cat((y_train_t, torch.tensor(pd.read_csv(f'y_train_p{i}.csv').values, dtype=torch.float32)), 0)\n",
    "    y_test_t = torch.cat((y_test_t, torch.tensor(pd.read_csv(f'y_test_p{i}.csv').values, dtype=torch.float32)), 0)"
   ]
  },
  {
   "cell_type": "code",
   "execution_count": 9,
   "id": "222af5fd",
   "metadata": {
    "ExecuteTime": {
     "end_time": "2022-09-02T08:26:29.244950Z",
     "start_time": "2022-09-02T08:26:29.215951Z"
    }
   },
   "outputs": [
    {
     "data": {
      "text/plain": [
       "True"
      ]
     },
     "execution_count": 9,
     "metadata": {},
     "output_type": "execute_result"
    }
   ],
   "source": [
    "X_train_t.shape[0]+ X_test_t.shape[0] == 8931075"
   ]
  },
  {
   "cell_type": "code",
   "execution_count": 10,
   "id": "bd2055bb",
   "metadata": {
    "ExecuteTime": {
     "end_time": "2022-09-02T08:26:29.260951Z",
     "start_time": "2022-09-02T08:26:29.246951Z"
    }
   },
   "outputs": [
    {
     "data": {
      "text/plain": [
       "107"
      ]
     },
     "execution_count": 10,
     "metadata": {},
     "output_type": "execute_result"
    }
   ],
   "source": [
    "X_train_t.shape[1]"
   ]
  },
  {
   "cell_type": "code",
   "execution_count": 11,
   "id": "c2d5ff74",
   "metadata": {
    "ExecuteTime": {
     "end_time": "2022-09-02T08:26:29.276950Z",
     "start_time": "2022-09-02T08:26:29.264952Z"
    }
   },
   "outputs": [],
   "source": [
    "train_dataset = TensorDataset(X_train_t, y_train_t)\n",
    "vaid_dataset = TensorDataset(X_test_t, y_test_t)"
   ]
  },
  {
   "cell_type": "code",
   "execution_count": 12,
   "id": "e0990b8a",
   "metadata": {
    "ExecuteTime": {
     "end_time": "2022-09-02T08:26:29.292951Z",
     "start_time": "2022-09-02T08:26:29.278951Z"
    }
   },
   "outputs": [],
   "source": [
    "train_loader = DataLoader(train_dataset, batch_size=1000, shuffle=False, num_workers=8, pin_memory=True)\n",
    "valid_loader = DataLoader(vaid_dataset, batch_size=1000, shuffle=False, num_workers=8, pin_memory=True)"
   ]
  },
  {
   "cell_type": "code",
   "execution_count": 19,
   "id": "aa0783d9",
   "metadata": {
    "ExecuteTime": {
     "end_time": "2022-09-02T08:48:27.681949Z",
     "start_time": "2022-09-02T08:37:47.145950Z"
    }
   },
   "outputs": [
    {
     "data": {
      "image/png": "[encoded data removed]",
      "text/plain": [
       "<Figure size 1152x576 with 1 Axes>"
      ]
     },
     "metadata": {
      "needs_background": "light"
     },
     "output_type": "display_data"
    },
    {
     "data": {
      "image/png": "[encoded data removed]",
      "text/plain": [
       "<Figure size 1152x576 with 1 Axes>"
      ]
     },
     "metadata": {
      "needs_background": "light"
     },
     "output_type": "display_data"
    },
    {
     "name": "stdout",
     "output_type": "stream",
     "text": [
      "Epoch 9 of 10\n",
      "Train Loss: 0.34511 Train Accuracy: 88.41\n",
      " Test Loss: 0.39373  Test Accuracy: 86.05\n"
     ]
    }
   ],
   "source": [
    "## FC_predict \n",
    "\n",
    "title = 'Predict_likes'\n",
    "lr = 0.001\n",
    "epochs = 10\n",
    "threshold = 0.95\n",
    "\n",
    "device = torch.device(\"cuda:0\" if torch.cuda.is_available() else \"cpu\")\n",
    "\n",
    "model = FC().to(device)\n",
    "\n",
    "optimizer = Adam(model.parameters(), lr=lr)\n",
    "\n",
    "loss_fn = nn.BCEWithLogitsLoss()\n",
    "\n",
    "train_loss_history, valid_loss_history = [], []\n",
    "train_accuracy_history, valid_accuracy_history = [], []\n",
    "\n",
    "for epoch in range(epochs):\n",
    "    train_loss, train_accuracy = train(model, train_loader, optimizer, loss_fn, device)\n",
    "    valid_loss, valid_accuracy = evaluate(model, valid_loader, loss_fn, device)\n",
    "   \n",
    "    train_loss_history.append(train_loss)\n",
    "    valid_loss_history.append(valid_loss)\n",
    "\n",
    "    train_accuracy_history.append(train_accuracy)\n",
    "    valid_accuracy_history.append(valid_accuracy)\n",
    "\n",
    "    clear_output(wait=True)\n",
    "\n",
    "    plot_stats(\n",
    "        train_loss_history,\n",
    "        valid_loss_history,\n",
    "        train_accuracy_history,\n",
    "        valid_accuracy_history,\n",
    "        title,\n",
    "    )\n",
    "\n",
    "    print(f'Epoch {epoch} of {epochs}')\n",
    "    print(f'Train Loss: {train_loss:.5f} Train Accuracy: {train_accuracy*100:.2f}')\n",
    "    print(f' Test Loss: {valid_loss:.5f}  Test Accuracy: {valid_accuracy*100:.2f}')\n",
    "    if valid_accuracy >= threshold:\n",
    "        break\n",
    "\n",
    "torch.save(model.state_dict(), \"model_test.pt\")"
   ]
  }
 ],
 "metadata": {
  "kernelspec": {
   "display_name": "Python 3 (ipykernel)",
   "language": "python",
   "name": "python3"
  },
  "language_info": {
   "codemirror_mode": {
    "name": "ipython",
    "version": 3
   },
   "file_extension": ".py",
   "mimetype": "text/x-python",
   "name": "python",
   "nbconvert_exporter": "python",
   "pygments_lexer": "ipython3",
   "version": "3.9.10"
  }
 },
 "nbformat": 4,
 "nbformat_minor": 5
}
