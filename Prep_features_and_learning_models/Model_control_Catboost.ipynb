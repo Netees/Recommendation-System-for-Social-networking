{
 "cells": [
  {
   "cell_type": "code",
   "execution_count": 1,
   "id": "d49c2124",
   "metadata": {
    "ExecuteTime": {
     "end_time": "2022-09-02T06:15:28.692301Z",
     "start_time": "2022-09-02T06:15:26.375301Z"
    }
   },
   "outputs": [],
   "source": [
    "import seaborn as sns\n",
    "import matplotlib.pyplot as plt\n",
    "from sklearn.metrics import roc_auc_score\n",
    "import pandas as pd\n",
    "import re\n",
    "import numpy as np\n",
    "from catboost import CatBoostClassifier"
   ]
  },
  {
   "cell_type": "code",
   "execution_count": 2,
   "id": "b288edd0",
   "metadata": {
    "ExecuteTime": {
     "end_time": "2022-09-02T06:15:28.724300Z",
     "start_time": "2022-09-02T06:15:28.695302Z"
    }
   },
   "outputs": [
    {
     "data": {
      "text/plain": [
       "True"
      ]
     },
     "execution_count": 2,
     "metadata": {},
     "output_type": "execute_result"
    }
   ],
   "source": [
    "import os\n",
    "from dotenv import load_dotenv\n",
    "load_dotenv()"
   ]
  },
  {
   "cell_type": "code",
   "execution_count": 3,
   "id": "e6a483e1",
   "metadata": {
    "ExecuteTime": {
     "end_time": "2022-09-02T06:15:28.740300Z",
     "start_time": "2022-09-02T06:15:28.726302Z"
    }
   },
   "outputs": [],
   "source": [
    "POSTGRES_USER = os.environ.get(\"POSTGRES_USER\")\n",
    "POSTGRES_PASSWORD = os.environ.get(\"POSTGRES_PASSWORD\")\n",
    "POSTGRES_HOST = os.environ.get(\"POSTGRES_HOST\")\n",
    "POSTGRES_PORT = os.environ.get(\"POSTGRES_PORT\")\n",
    "POSTGRES_DATABASE = os.environ.get(\"POSTGRES_DATABASE\")"
   ]
  },
  {
   "cell_type": "code",
   "execution_count": 4,
   "id": "aacb9566",
   "metadata": {
    "ExecuteTime": {
     "end_time": "2022-09-02T06:15:34.650301Z",
     "start_time": "2022-09-02T06:15:28.743302Z"
    }
   },
   "outputs": [
    {
     "data": {
      "text/html": [
       "<div>\n",
       "<style scoped>\n",
       "    .dataframe tbody tr th:only-of-type {\n",
       "        vertical-align: middle;\n",
       "    }\n",
       "\n",
       "    .dataframe tbody tr th {\n",
       "        vertical-align: top;\n",
       "    }\n",
       "\n",
       "    .dataframe thead th {\n",
       "        text-align: right;\n",
       "    }\n",
       "</style>\n",
       "<table border=\"1\" class=\"dataframe\">\n",
       "  <thead>\n",
       "    <tr style=\"text-align: right;\">\n",
       "      <th></th>\n",
       "      <th>user_id</th>\n",
       "      <th>gender</th>\n",
       "      <th>age</th>\n",
       "      <th>country</th>\n",
       "      <th>city</th>\n",
       "      <th>exp_group</th>\n",
       "      <th>os</th>\n",
       "      <th>source</th>\n",
       "    </tr>\n",
       "  </thead>\n",
       "  <tbody>\n",
       "    <tr>\n",
       "      <th>0</th>\n",
       "      <td>200</td>\n",
       "      <td>1</td>\n",
       "      <td>34</td>\n",
       "      <td>Russia</td>\n",
       "      <td>Degtyarsk</td>\n",
       "      <td>3</td>\n",
       "      <td>Android</td>\n",
       "      <td>ads</td>\n",
       "    </tr>\n",
       "    <tr>\n",
       "      <th>1</th>\n",
       "      <td>201</td>\n",
       "      <td>0</td>\n",
       "      <td>37</td>\n",
       "      <td>Russia</td>\n",
       "      <td>Abakan</td>\n",
       "      <td>0</td>\n",
       "      <td>Android</td>\n",
       "      <td>ads</td>\n",
       "    </tr>\n",
       "    <tr>\n",
       "      <th>2</th>\n",
       "      <td>202</td>\n",
       "      <td>1</td>\n",
       "      <td>17</td>\n",
       "      <td>Russia</td>\n",
       "      <td>Smolensk</td>\n",
       "      <td>4</td>\n",
       "      <td>Android</td>\n",
       "      <td>ads</td>\n",
       "    </tr>\n",
       "    <tr>\n",
       "      <th>3</th>\n",
       "      <td>203</td>\n",
       "      <td>0</td>\n",
       "      <td>18</td>\n",
       "      <td>Russia</td>\n",
       "      <td>Moscow</td>\n",
       "      <td>1</td>\n",
       "      <td>iOS</td>\n",
       "      <td>ads</td>\n",
       "    </tr>\n",
       "    <tr>\n",
       "      <th>4</th>\n",
       "      <td>204</td>\n",
       "      <td>0</td>\n",
       "      <td>36</td>\n",
       "      <td>Russia</td>\n",
       "      <td>Anzhero-Sudzhensk</td>\n",
       "      <td>3</td>\n",
       "      <td>Android</td>\n",
       "      <td>ads</td>\n",
       "    </tr>\n",
       "  </tbody>\n",
       "</table>\n",
       "</div>"
      ],
      "text/plain": [
       "   user_id  gender  age country               city  exp_group       os source\n",
       "0      200       1   34  Russia          Degtyarsk          3  Android    ads\n",
       "1      201       0   37  Russia             Abakan          0  Android    ads\n",
       "2      202       1   17  Russia           Smolensk          4  Android    ads\n",
       "3      203       0   18  Russia             Moscow          1      iOS    ads\n",
       "4      204       0   36  Russia  Anzhero-Sudzhensk          3  Android    ads"
      ]
     },
     "execution_count": 4,
     "metadata": {},
     "output_type": "execute_result"
    }
   ],
   "source": [
    "# Датасет по юзерам\n",
    "\n",
    "#user_info = pd.read_csv('https://drive.google.com/uc?id=1dCRcm1SW7o_LftFD8F0UNQO59mYKsR7d')\n",
    "user_info = pd.read_sql(\n",
    "    \"\"\"SELECT * FROM public.user_data\"\"\",\n",
    "    \n",
    "    con=\"postgresql://\" + POSTGRES_USER + \":\" + POSTGRES_PASSWORD + \"@\"\n",
    "        + str(POSTGRES_HOST) + \":\" + POSTGRES_PORT + \"/\" + POSTGRES_DATABASE)\n",
    "\n",
    "\n",
    "user_info.head()"
   ]
  },
  {
   "cell_type": "code",
   "execution_count": 5,
   "id": "a6f00d8d",
   "metadata": {
    "ExecuteTime": {
     "end_time": "2022-09-02T06:15:38.737300Z",
     "start_time": "2022-09-02T06:15:34.652302Z"
    },
    "scrolled": true
   },
   "outputs": [
    {
     "data": {
      "text/html": [
       "<div>\n",
       "<style scoped>\n",
       "    .dataframe tbody tr th:only-of-type {\n",
       "        vertical-align: middle;\n",
       "    }\n",
       "\n",
       "    .dataframe tbody tr th {\n",
       "        vertical-align: top;\n",
       "    }\n",
       "\n",
       "    .dataframe thead th {\n",
       "        text-align: right;\n",
       "    }\n",
       "</style>\n",
       "<table border=\"1\" class=\"dataframe\">\n",
       "  <thead>\n",
       "    <tr style=\"text-align: right;\">\n",
       "      <th></th>\n",
       "      <th>post_id</th>\n",
       "      <th>topic</th>\n",
       "    </tr>\n",
       "  </thead>\n",
       "  <tbody>\n",
       "    <tr>\n",
       "      <th>0</th>\n",
       "      <td>1</td>\n",
       "      <td>business</td>\n",
       "    </tr>\n",
       "    <tr>\n",
       "      <th>1</th>\n",
       "      <td>2</td>\n",
       "      <td>business</td>\n",
       "    </tr>\n",
       "    <tr>\n",
       "      <th>2</th>\n",
       "      <td>3</td>\n",
       "      <td>business</td>\n",
       "    </tr>\n",
       "    <tr>\n",
       "      <th>3</th>\n",
       "      <td>4</td>\n",
       "      <td>business</td>\n",
       "    </tr>\n",
       "    <tr>\n",
       "      <th>4</th>\n",
       "      <td>5</td>\n",
       "      <td>business</td>\n",
       "    </tr>\n",
       "  </tbody>\n",
       "</table>\n",
       "</div>"
      ],
      "text/plain": [
       "   post_id     topic\n",
       "0        1  business\n",
       "1        2  business\n",
       "2        3  business\n",
       "3        4  business\n",
       "4        5  business"
      ]
     },
     "execution_count": 5,
     "metadata": {},
     "output_type": "execute_result"
    }
   ],
   "source": [
    "# Датасет по постам\n",
    "\n",
    "#posts_info = pd.read_csv('https://drive.google.com/uc?id=1K2clFp00Hp5pGHGiy7NRf0DT5zxGz15h')\n",
    "posts_info = pd.read_sql(\n",
    "    \"\"\"SELECT * FROM public.post_text_df\"\"\",\n",
    "    \n",
    "    con=\"postgresql://\" + POSTGRES_USER + \":\" + POSTGRES_PASSWORD + \"@\"\n",
    "        + str(POSTGRES_HOST) + \":\" + POSTGRES_PORT + \"/\" + POSTGRES_DATABASE)\n",
    "\n",
    "posts_info = posts_info.drop('text',axis=1)\n",
    "posts_info.head()"
   ]
  },
  {
   "cell_type": "code",
   "execution_count": 6,
   "id": "791ecb81",
   "metadata": {
    "ExecuteTime": {
     "end_time": "2022-09-02T06:16:03.146300Z",
     "start_time": "2022-09-02T06:15:38.739301Z"
    },
    "scrolled": true
   },
   "outputs": [
    {
     "data": {
      "text/html": [
       "<div>\n",
       "<style scoped>\n",
       "    .dataframe tbody tr th:only-of-type {\n",
       "        vertical-align: middle;\n",
       "    }\n",
       "\n",
       "    .dataframe tbody tr th {\n",
       "        vertical-align: top;\n",
       "    }\n",
       "\n",
       "    .dataframe thead th {\n",
       "        text-align: right;\n",
       "    }\n",
       "</style>\n",
       "<table border=\"1\" class=\"dataframe\">\n",
       "  <thead>\n",
       "    <tr style=\"text-align: right;\">\n",
       "      <th></th>\n",
       "      <th>timestamp</th>\n",
       "      <th>user_id</th>\n",
       "      <th>post_id</th>\n",
       "      <th>action</th>\n",
       "      <th>target</th>\n",
       "    </tr>\n",
       "  </thead>\n",
       "  <tbody>\n",
       "    <tr>\n",
       "      <th>0</th>\n",
       "      <td>2021-10-31 07:12:19</td>\n",
       "      <td>130401</td>\n",
       "      <td>1463</td>\n",
       "      <td>view</td>\n",
       "      <td>0</td>\n",
       "    </tr>\n",
       "    <tr>\n",
       "      <th>1</th>\n",
       "      <td>2021-10-31 07:14:31</td>\n",
       "      <td>130401</td>\n",
       "      <td>1204</td>\n",
       "      <td>view</td>\n",
       "      <td>0</td>\n",
       "    </tr>\n",
       "    <tr>\n",
       "      <th>2</th>\n",
       "      <td>2021-10-31 07:15:14</td>\n",
       "      <td>130401</td>\n",
       "      <td>4448</td>\n",
       "      <td>view</td>\n",
       "      <td>0</td>\n",
       "    </tr>\n",
       "    <tr>\n",
       "      <th>3</th>\n",
       "      <td>2021-10-31 07:17:59</td>\n",
       "      <td>130401</td>\n",
       "      <td>4122</td>\n",
       "      <td>view</td>\n",
       "      <td>0</td>\n",
       "    </tr>\n",
       "    <tr>\n",
       "      <th>4</th>\n",
       "      <td>2021-10-31 07:18:28</td>\n",
       "      <td>130401</td>\n",
       "      <td>3158</td>\n",
       "      <td>view</td>\n",
       "      <td>0</td>\n",
       "    </tr>\n",
       "  </tbody>\n",
       "</table>\n",
       "</div>"
      ],
      "text/plain": [
       "             timestamp  user_id  post_id action  target\n",
       "0  2021-10-31 07:12:19   130401     1463   view       0\n",
       "1  2021-10-31 07:14:31   130401     1204   view       0\n",
       "2  2021-10-31 07:15:14   130401     4448   view       0\n",
       "3  2021-10-31 07:17:59   130401     4122   view       0\n",
       "4  2021-10-31 07:18:28   130401     3158   view       0"
      ]
     },
     "execution_count": 6,
     "metadata": {},
     "output_type": "execute_result"
    }
   ],
   "source": [
    "# Файл большой, заранне скачать https://drive.google.com/file/d/1A8wzhuwz5NWjPNIBDK-7DFp6qXKTqtNk/view?usp=sharing\n",
    "# feed_data = pd.read_csv('feed_data_ML.csv')\n",
    "\n",
    "feed_data = pd.read_sql(\n",
    "    \"\"\"SELECT * FROM public.feed_data LIMIT 23100000 \"\"\",\n",
    "    \n",
    "    con=\"postgresql://\" + POSTGRES_USER + \":\" + POSTGRES_PASSWORD + \"@\"\n",
    "        + str(POSTGRES_HOST) + \":\" + POSTGRES_PORT + \"/\" + POSTGRES_DATABASE)\n",
    "\n",
    "\n",
    "feed_data.head()"
   ]
  },
  {
   "cell_type": "code",
   "execution_count": 7,
   "id": "a7e38f8f",
   "metadata": {
    "ExecuteTime": {
     "end_time": "2022-09-02T06:16:06.904302Z",
     "start_time": "2022-09-02T06:16:03.148301Z"
    },
    "scrolled": true
   },
   "outputs": [
    {
     "data": {
      "text/html": [
       "<div>\n",
       "<style scoped>\n",
       "    .dataframe tbody tr th:only-of-type {\n",
       "        vertical-align: middle;\n",
       "    }\n",
       "\n",
       "    .dataframe tbody tr th {\n",
       "        vertical-align: top;\n",
       "    }\n",
       "\n",
       "    .dataframe thead th {\n",
       "        text-align: right;\n",
       "    }\n",
       "</style>\n",
       "<table border=\"1\" class=\"dataframe\">\n",
       "  <thead>\n",
       "    <tr style=\"text-align: right;\">\n",
       "      <th></th>\n",
       "      <th>timestamp</th>\n",
       "      <th>user_id</th>\n",
       "      <th>post_id</th>\n",
       "      <th>target</th>\n",
       "    </tr>\n",
       "  </thead>\n",
       "  <tbody>\n",
       "    <tr>\n",
       "      <th>0</th>\n",
       "      <td>2021-10-31 07:12:19</td>\n",
       "      <td>130401</td>\n",
       "      <td>1463</td>\n",
       "      <td>0</td>\n",
       "    </tr>\n",
       "    <tr>\n",
       "      <th>1</th>\n",
       "      <td>2021-10-31 07:14:31</td>\n",
       "      <td>130401</td>\n",
       "      <td>1204</td>\n",
       "      <td>0</td>\n",
       "    </tr>\n",
       "    <tr>\n",
       "      <th>2</th>\n",
       "      <td>2021-10-31 07:15:14</td>\n",
       "      <td>130401</td>\n",
       "      <td>4448</td>\n",
       "      <td>0</td>\n",
       "    </tr>\n",
       "    <tr>\n",
       "      <th>3</th>\n",
       "      <td>2021-10-31 07:17:59</td>\n",
       "      <td>130401</td>\n",
       "      <td>4122</td>\n",
       "      <td>0</td>\n",
       "    </tr>\n",
       "    <tr>\n",
       "      <th>4</th>\n",
       "      <td>2021-10-31 07:18:28</td>\n",
       "      <td>130401</td>\n",
       "      <td>3158</td>\n",
       "      <td>0</td>\n",
       "    </tr>\n",
       "  </tbody>\n",
       "</table>\n",
       "</div>"
      ],
      "text/plain": [
       "             timestamp  user_id  post_id  target\n",
       "0  2021-10-31 07:12:19   130401     1463       0\n",
       "1  2021-10-31 07:14:31   130401     1204       0\n",
       "2  2021-10-31 07:15:14   130401     4448       0\n",
       "3  2021-10-31 07:17:59   130401     4122       0\n",
       "4  2021-10-31 07:18:28   130401     3158       0"
      ]
     },
     "execution_count": 7,
     "metadata": {},
     "output_type": "execute_result"
    }
   ],
   "source": [
    "# Оставляем только те где просмотр\n",
    "feed_data = feed_data[feed_data.action=='view']\n",
    "feed_data = feed_data.drop('action', axis=1)\n",
    "feed_data.head()"
   ]
  },
  {
   "cell_type": "code",
   "execution_count": 8,
   "id": "e93e65d4",
   "metadata": {
    "ExecuteTime": {
     "end_time": "2022-09-02T06:16:06.935301Z",
     "start_time": "2022-09-02T06:16:06.907301Z"
    },
    "scrolled": false
   },
   "outputs": [
    {
     "data": {
      "text/html": [
       "<div>\n",
       "<style scoped>\n",
       "    .dataframe tbody tr th:only-of-type {\n",
       "        vertical-align: middle;\n",
       "    }\n",
       "\n",
       "    .dataframe tbody tr th {\n",
       "        vertical-align: top;\n",
       "    }\n",
       "\n",
       "    .dataframe thead th {\n",
       "        text-align: right;\n",
       "    }\n",
       "</style>\n",
       "<table border=\"1\" class=\"dataframe\">\n",
       "  <thead>\n",
       "    <tr style=\"text-align: right;\">\n",
       "      <th></th>\n",
       "      <th>user_id</th>\n",
       "      <th>gender</th>\n",
       "      <th>age</th>\n",
       "      <th>city</th>\n",
       "      <th>exp_group</th>\n",
       "    </tr>\n",
       "  </thead>\n",
       "  <tbody>\n",
       "    <tr>\n",
       "      <th>0</th>\n",
       "      <td>200</td>\n",
       "      <td>1</td>\n",
       "      <td>34</td>\n",
       "      <td>Degtyarsk</td>\n",
       "      <td>3</td>\n",
       "    </tr>\n",
       "    <tr>\n",
       "      <th>1</th>\n",
       "      <td>201</td>\n",
       "      <td>0</td>\n",
       "      <td>37</td>\n",
       "      <td>Abakan</td>\n",
       "      <td>0</td>\n",
       "    </tr>\n",
       "    <tr>\n",
       "      <th>2</th>\n",
       "      <td>202</td>\n",
       "      <td>1</td>\n",
       "      <td>17</td>\n",
       "      <td>Smolensk</td>\n",
       "      <td>4</td>\n",
       "    </tr>\n",
       "    <tr>\n",
       "      <th>3</th>\n",
       "      <td>203</td>\n",
       "      <td>0</td>\n",
       "      <td>18</td>\n",
       "      <td>Moscow</td>\n",
       "      <td>1</td>\n",
       "    </tr>\n",
       "    <tr>\n",
       "      <th>4</th>\n",
       "      <td>204</td>\n",
       "      <td>0</td>\n",
       "      <td>36</td>\n",
       "      <td>Anzhero-Sudzhensk</td>\n",
       "      <td>3</td>\n",
       "    </tr>\n",
       "  </tbody>\n",
       "</table>\n",
       "</div>"
      ],
      "text/plain": [
       "   user_id  gender  age               city  exp_group\n",
       "0      200       1   34          Degtyarsk          3\n",
       "1      201       0   37             Abakan          0\n",
       "2      202       1   17           Smolensk          4\n",
       "3      203       0   18             Moscow          1\n",
       "4      204       0   36  Anzhero-Sudzhensk          3"
      ]
     },
     "execution_count": 8,
     "metadata": {},
     "output_type": "execute_result"
    }
   ],
   "source": [
    "# Убираем лишние категориальные колонки\n",
    "user_info = user_info.drop(['source', 'os', 'country'], axis=1)\n",
    "user_info.head()"
   ]
  },
  {
   "cell_type": "code",
   "execution_count": 9,
   "id": "fed7cee5",
   "metadata": {
    "ExecuteTime": {
     "end_time": "2022-09-02T06:16:07.156302Z",
     "start_time": "2022-09-02T06:16:06.938302Z"
    }
   },
   "outputs": [
    {
     "data": {
      "image/png": "[encoded data removed]",
      "text/plain": [
       "<Figure size 432x288 with 1 Axes>"
      ]
     },
     "metadata": {
      "needs_background": "light"
     },
     "output_type": "display_data"
    }
   ],
   "source": [
    "sns.histplot(posts_info.topic, shrink=0.5)\n",
    "plt.xticks(rotation = 45)\n",
    "plt.show()"
   ]
  },
  {
   "cell_type": "code",
   "execution_count": 10,
   "id": "c042d497",
   "metadata": {
    "ExecuteTime": {
     "end_time": "2022-09-02T06:16:12.446300Z",
     "start_time": "2022-09-02T06:16:07.158302Z"
    }
   },
   "outputs": [],
   "source": [
    "# Соеденияем таблицы\n",
    "df = pd.merge(feed_data,\n",
    "              posts_info,\n",
    "              on='post_id',\n",
    "              how='left')\n",
    "del posts_info"
   ]
  },
  {
   "cell_type": "code",
   "execution_count": 11,
   "id": "fcd47f64",
   "metadata": {
    "ExecuteTime": {
     "end_time": "2022-09-02T06:16:17.900301Z",
     "start_time": "2022-09-02T06:16:12.448302Z"
    }
   },
   "outputs": [],
   "source": [
    "df = pd.merge(df,\n",
    "              user_info,\n",
    "              on='user_id',\n",
    "              how='left')\n",
    "\n",
    "df.head()\n",
    "del user_info"
   ]
  },
  {
   "cell_type": "code",
   "execution_count": 12,
   "id": "93bdc76a",
   "metadata": {
    "ExecuteTime": {
     "end_time": "2022-09-02T06:16:22.045301Z",
     "start_time": "2022-09-02T06:16:17.902301Z"
    }
   },
   "outputs": [],
   "source": [
    "df = df.drop(['user_id', 'post_id'],axis=1)"
   ]
  },
  {
   "cell_type": "code",
   "execution_count": 13,
   "id": "f136f070",
   "metadata": {
    "ExecuteTime": {
     "end_time": "2022-09-02T06:18:59.123300Z",
     "start_time": "2022-09-02T06:16:22.047301Z"
    },
    "scrolled": true
   },
   "outputs": [
    {
     "data": {
      "text/html": [
       "<div>\n",
       "<style scoped>\n",
       "    .dataframe tbody tr th:only-of-type {\n",
       "        vertical-align: middle;\n",
       "    }\n",
       "\n",
       "    .dataframe tbody tr th {\n",
       "        vertical-align: top;\n",
       "    }\n",
       "\n",
       "    .dataframe thead th {\n",
       "        text-align: right;\n",
       "    }\n",
       "</style>\n",
       "<table border=\"1\" class=\"dataframe\">\n",
       "  <thead>\n",
       "    <tr style=\"text-align: right;\">\n",
       "      <th></th>\n",
       "      <th>timestamp</th>\n",
       "      <th>target</th>\n",
       "      <th>topic</th>\n",
       "      <th>gender</th>\n",
       "      <th>age</th>\n",
       "      <th>city</th>\n",
       "      <th>exp_group</th>\n",
       "      <th>hour</th>\n",
       "      <th>month</th>\n",
       "      <th>day</th>\n",
       "    </tr>\n",
       "  </thead>\n",
       "  <tbody>\n",
       "    <tr>\n",
       "      <th>0</th>\n",
       "      <td>2021-10-31 07:12:19</td>\n",
       "      <td>0</td>\n",
       "      <td>sport</td>\n",
       "      <td>1</td>\n",
       "      <td>21</td>\n",
       "      <td>Timashevsk</td>\n",
       "      <td>3</td>\n",
       "      <td>7</td>\n",
       "      <td>10</td>\n",
       "      <td>31</td>\n",
       "    </tr>\n",
       "    <tr>\n",
       "      <th>1</th>\n",
       "      <td>2021-10-31 07:14:31</td>\n",
       "      <td>0</td>\n",
       "      <td>politics</td>\n",
       "      <td>1</td>\n",
       "      <td>21</td>\n",
       "      <td>Timashevsk</td>\n",
       "      <td>3</td>\n",
       "      <td>7</td>\n",
       "      <td>10</td>\n",
       "      <td>31</td>\n",
       "    </tr>\n",
       "    <tr>\n",
       "      <th>2</th>\n",
       "      <td>2021-10-31 07:15:14</td>\n",
       "      <td>0</td>\n",
       "      <td>movie</td>\n",
       "      <td>1</td>\n",
       "      <td>21</td>\n",
       "      <td>Timashevsk</td>\n",
       "      <td>3</td>\n",
       "      <td>7</td>\n",
       "      <td>10</td>\n",
       "      <td>31</td>\n",
       "    </tr>\n",
       "    <tr>\n",
       "      <th>3</th>\n",
       "      <td>2021-10-31 07:17:59</td>\n",
       "      <td>0</td>\n",
       "      <td>covid</td>\n",
       "      <td>1</td>\n",
       "      <td>21</td>\n",
       "      <td>Timashevsk</td>\n",
       "      <td>3</td>\n",
       "      <td>7</td>\n",
       "      <td>10</td>\n",
       "      <td>31</td>\n",
       "    </tr>\n",
       "    <tr>\n",
       "      <th>4</th>\n",
       "      <td>2021-10-31 07:18:28</td>\n",
       "      <td>0</td>\n",
       "      <td>covid</td>\n",
       "      <td>1</td>\n",
       "      <td>21</td>\n",
       "      <td>Timashevsk</td>\n",
       "      <td>3</td>\n",
       "      <td>7</td>\n",
       "      <td>10</td>\n",
       "      <td>31</td>\n",
       "    </tr>\n",
       "  </tbody>\n",
       "</table>\n",
       "</div>"
      ],
      "text/plain": [
       "             timestamp  target     topic  gender  age        city  exp_group  \\\n",
       "0  2021-10-31 07:12:19       0     sport       1   21  Timashevsk          3   \n",
       "1  2021-10-31 07:14:31       0  politics       1   21  Timashevsk          3   \n",
       "2  2021-10-31 07:15:14       0     movie       1   21  Timashevsk          3   \n",
       "3  2021-10-31 07:17:59       0     covid       1   21  Timashevsk          3   \n",
       "4  2021-10-31 07:18:28       0     covid       1   21  Timashevsk          3   \n",
       "\n",
       "   hour  month  day  \n",
       "0     7     10   31  \n",
       "1     7     10   31  \n",
       "2     7     10   31  \n",
       "3     7     10   31  \n",
       "4     7     10   31  "
      ]
     },
     "execution_count": 13,
     "metadata": {},
     "output_type": "execute_result"
    }
   ],
   "source": [
    "# Создаем фичи по времени \n",
    "df['hour'] = pd.to_datetime(df['timestamp']).apply(lambda x: x.hour)\n",
    "df['month'] = pd.to_datetime(df['timestamp']).apply(lambda x: x.month)\n",
    "df['day'] = pd.to_datetime(df['timestamp']).apply(lambda x: x.day)\n",
    "df.head()"
   ]
  },
  {
   "cell_type": "code",
   "execution_count": 14,
   "id": "419766a1",
   "metadata": {
    "ExecuteTime": {
     "end_time": "2022-09-02T06:19:03.103300Z",
     "start_time": "2022-09-02T06:18:59.125301Z"
    }
   },
   "outputs": [
    {
     "data": {
      "text/plain": [
       "('2021-12-29 23:44:39', '2021-10-01 06:02:14')"
      ]
     },
     "execution_count": 14,
     "metadata": {},
     "output_type": "execute_result"
    }
   ],
   "source": [
    "max(df.timestamp), min(df.timestamp)"
   ]
  },
  {
   "cell_type": "code",
   "execution_count": 15,
   "id": "37919734",
   "metadata": {
    "ExecuteTime": {
     "end_time": "2022-09-02T06:19:10.251300Z",
     "start_time": "2022-09-02T06:19:03.107301Z"
    }
   },
   "outputs": [
    {
     "data": {
      "text/plain": [
       "((17190201,), (3450127,))"
      ]
     },
     "execution_count": 15,
     "metadata": {},
     "output_type": "execute_result"
    }
   ],
   "source": [
    "# Валидируем по времени\n",
    "df_train = df[df.timestamp < '2021-12-15']\n",
    "df_test = df[df.timestamp >= '2021-12-15']\n",
    "\n",
    "\n",
    "df_train = df_train.drop('timestamp', axis=1)\n",
    "df_test = df_test.drop('timestamp', axis=1)\n",
    "\n",
    "X_train = df_train.drop('target', axis=1)\n",
    "X_test = df_test.drop('target', axis=1)\n",
    "\n",
    "y_train = df_train['target']\n",
    "y_test = df_test['target']\n",
    "\n",
    "y_train.shape, y_test.shape\n"
   ]
  },
  {
   "cell_type": "code",
   "execution_count": 16,
   "id": "ba83a3cb",
   "metadata": {
    "ExecuteTime": {
     "end_time": "2022-09-02T06:19:10.266300Z",
     "start_time": "2022-09-02T06:19:10.252301Z"
    }
   },
   "outputs": [
    {
     "data": {
      "text/html": [
       "<div>\n",
       "<style scoped>\n",
       "    .dataframe tbody tr th:only-of-type {\n",
       "        vertical-align: middle;\n",
       "    }\n",
       "\n",
       "    .dataframe tbody tr th {\n",
       "        vertical-align: top;\n",
       "    }\n",
       "\n",
       "    .dataframe thead th {\n",
       "        text-align: right;\n",
       "    }\n",
       "</style>\n",
       "<table border=\"1\" class=\"dataframe\">\n",
       "  <thead>\n",
       "    <tr style=\"text-align: right;\">\n",
       "      <th></th>\n",
       "      <th>topic</th>\n",
       "      <th>gender</th>\n",
       "      <th>age</th>\n",
       "      <th>city</th>\n",
       "      <th>exp_group</th>\n",
       "      <th>hour</th>\n",
       "      <th>month</th>\n",
       "      <th>day</th>\n",
       "    </tr>\n",
       "  </thead>\n",
       "  <tbody>\n",
       "    <tr>\n",
       "      <th>0</th>\n",
       "      <td>sport</td>\n",
       "      <td>1</td>\n",
       "      <td>21</td>\n",
       "      <td>Timashevsk</td>\n",
       "      <td>3</td>\n",
       "      <td>7</td>\n",
       "      <td>10</td>\n",
       "      <td>31</td>\n",
       "    </tr>\n",
       "    <tr>\n",
       "      <th>1</th>\n",
       "      <td>politics</td>\n",
       "      <td>1</td>\n",
       "      <td>21</td>\n",
       "      <td>Timashevsk</td>\n",
       "      <td>3</td>\n",
       "      <td>7</td>\n",
       "      <td>10</td>\n",
       "      <td>31</td>\n",
       "    </tr>\n",
       "    <tr>\n",
       "      <th>2</th>\n",
       "      <td>movie</td>\n",
       "      <td>1</td>\n",
       "      <td>21</td>\n",
       "      <td>Timashevsk</td>\n",
       "      <td>3</td>\n",
       "      <td>7</td>\n",
       "      <td>10</td>\n",
       "      <td>31</td>\n",
       "    </tr>\n",
       "    <tr>\n",
       "      <th>3</th>\n",
       "      <td>covid</td>\n",
       "      <td>1</td>\n",
       "      <td>21</td>\n",
       "      <td>Timashevsk</td>\n",
       "      <td>3</td>\n",
       "      <td>7</td>\n",
       "      <td>10</td>\n",
       "      <td>31</td>\n",
       "    </tr>\n",
       "    <tr>\n",
       "      <th>4</th>\n",
       "      <td>covid</td>\n",
       "      <td>1</td>\n",
       "      <td>21</td>\n",
       "      <td>Timashevsk</td>\n",
       "      <td>3</td>\n",
       "      <td>7</td>\n",
       "      <td>10</td>\n",
       "      <td>31</td>\n",
       "    </tr>\n",
       "  </tbody>\n",
       "</table>\n",
       "</div>"
      ],
      "text/plain": [
       "      topic  gender  age        city  exp_group  hour  month  day\n",
       "0     sport       1   21  Timashevsk          3     7     10   31\n",
       "1  politics       1   21  Timashevsk          3     7     10   31\n",
       "2     movie       1   21  Timashevsk          3     7     10   31\n",
       "3     covid       1   21  Timashevsk          3     7     10   31\n",
       "4     covid       1   21  Timashevsk          3     7     10   31"
      ]
     },
     "execution_count": 16,
     "metadata": {},
     "output_type": "execute_result"
    }
   ],
   "source": [
    "X_train.head()"
   ]
  },
  {
   "cell_type": "code",
   "execution_count": 17,
   "id": "e31f6f7f",
   "metadata": {
    "ExecuteTime": {
     "end_time": "2022-09-02T06:19:10.281301Z",
     "start_time": "2022-09-02T06:19:10.268301Z"
    }
   },
   "outputs": [],
   "source": [
    "object_cols = ['topic', 'gender', 'city', 'exp_group', 'hour', 'month', 'day']"
   ]
  },
  {
   "cell_type": "code",
   "execution_count": 18,
   "id": "5eb7248c",
   "metadata": {
    "ExecuteTime": {
     "end_time": "2022-09-02T06:22:48.593301Z",
     "start_time": "2022-09-02T06:19:10.283301Z"
    }
   },
   "outputs": [
    {
     "name": "stdout",
     "output_type": "stream",
     "text": [
      "Качество на трейне: 0.6725197023237732\n",
      "Качество на тесте: 0.6495589435631932\n"
     ]
    }
   ],
   "source": [
    "catboost = CatBoostClassifier(iterations=100,\n",
    "                              learning_rate=1,\n",
    "                              depth=2,\n",
    "                              silent=True,\n",
    "                              task_type='GPU',\n",
    "                              random_seed=42)\n",
    "\n",
    "catboost.fit(X_train, y_train, object_cols)\n",
    "\n",
    "print(f\"Качество на трейне: {roc_auc_score(y_train, catboost.predict_proba(X_train)[:, 1])}\")\n",
    "print(f\"Качество на тесте: {roc_auc_score(y_test, catboost.predict_proba(X_test)[:, 1])}\")"
   ]
  },
  {
   "cell_type": "code",
   "execution_count": 19,
   "id": "16b235a4",
   "metadata": {
    "ExecuteTime": {
     "end_time": "2022-09-02T06:22:48.625300Z",
     "start_time": "2022-09-02T06:22:48.600302Z"
    }
   },
   "outputs": [],
   "source": [
    "def plot_feature_importance(importance,names,model_type):\n",
    "    \n",
    "    #Create arrays from feature importance and feature names\n",
    "    feature_importance = np.array(importance)\n",
    "    feature_names = np.array(names)\n",
    "    \n",
    "    #Create a DataFrame using a Dictionary\n",
    "    data={'feature_names':feature_names,'feature_importance':feature_importance}\n",
    "    fi_df = pd.DataFrame(data)\n",
    "    \n",
    "    #Sort the DataFrame in order decreasing feature importance\n",
    "    fi_df.sort_values(by=['feature_importance'], ascending=False,inplace=True)\n",
    "    \n",
    "    #Define size of bar plot\n",
    "    plt.figure(figsize=(10,8))\n",
    "    #Plot Searborn bar chart\n",
    "    sns.barplot(x=fi_df['feature_importance'], y=fi_df['feature_names'])\n",
    "    #Add chart labels\n",
    "    plt.title(model_type + 'FEATURE IMPORTANCE')\n",
    "    plt.xlabel('FEATURE IMPORTANCE')\n",
    "    plt.ylabel('FEATURE NAMES')\n",
    "    \n"
   ]
  },
  {
   "cell_type": "code",
   "execution_count": 20,
   "id": "85887099",
   "metadata": {
    "ExecuteTime": {
     "end_time": "2022-09-02T06:22:48.641301Z",
     "start_time": "2022-09-02T06:22:48.627302Z"
    }
   },
   "outputs": [],
   "source": [
    "catboost.save_model('model_control', format=\"cbm\")"
   ]
  },
  {
   "cell_type": "code",
   "execution_count": 21,
   "id": "c200badf",
   "metadata": {
    "ExecuteTime": {
     "end_time": "2022-09-02T06:22:49.065301Z",
     "start_time": "2022-09-02T06:22:48.643302Z"
    },
    "scrolled": false
   },
   "outputs": [
    {
     "data": {
      "image/png": "[encoded data removed]",
      "text/plain": [
       "<Figure size 720x576 with 1 Axes>"
      ]
     },
     "metadata": {
      "needs_background": "light"
     },
     "output_type": "display_data"
    }
   ],
   "source": [
    "plot_feature_importance(catboost.feature_importances_,X_train.columns,'Catboost')"
   ]
  },
  {
   "cell_type": "code",
   "execution_count": null,
   "id": "d2bbb2ff",
   "metadata": {},
   "outputs": [],
   "source": []
  }
 ],
 "metadata": {
  "kernelspec": {
   "display_name": "Python 3 (ipykernel)",
   "language": "python",
   "name": "python3"
  },
  "language_info": {
   "codemirror_mode": {
    "name": "ipython",
    "version": 3
   },
   "file_extension": ".py",
   "mimetype": "text/x-python",
   "name": "python",
   "nbconvert_exporter": "python",
   "pygments_lexer": "ipython3",
   "version": "3.9.10"
  }
 },
 "nbformat": 4,
 "nbformat_minor": 5
}
