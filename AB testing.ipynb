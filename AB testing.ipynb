{
 "cells": [
  {
   "cell_type": "markdown",
   "id": "e5830b83",
   "metadata": {},
   "source": [
    "# A/B тестирование"
   ]
  },
  {
   "cell_type": "markdown",
   "id": "cf9d8b68",
   "metadata": {},
   "source": [
    "Представим, что мы проводили эксперимент на пользователях в течение 2 недель. В результаты мы получили сырые данные об эксперименте, которые нам надо обработать и сделать выводы. \n",
    "\n",
    "В результате у нас получилось 2 таблички:\n",
    "\n",
    "* Ответы наши сервиса с рекомендациями — в них мы знаем, какому пользователю что мы порекомендовали и в какую группу его отнесли. И, конечно, знаем момент времени, когда это произошло.\n",
    "\n",
    "* Данные о лайках — в них мы знаем, какой пользователь и какой пост лайкнул, в том числе момент времени, когда это произошло."
   ]
  },
  {
   "cell_type": "markdown",
   "id": "5d8a3c64",
   "metadata": {},
   "source": [
    "Загрузим данные и посмотрим на них"
   ]
  },
  {
   "cell_type": "code",
   "execution_count": 1,
   "id": "a9ed0991",
   "metadata": {
    "ExecuteTime": {
     "end_time": "2022-09-02T10:04:48.490022Z",
     "start_time": "2022-09-02T10:04:42.194023Z"
    }
   },
   "outputs": [],
   "source": [
    "import numpy as np\n",
    "import pandas as pd\n",
    "\n",
    "views = pd.read_csv('https://drive.google.com/uc?id=1AQNrqqrITmV-Swu834-y66ePinmOXFcs')\n",
    "likes = pd.read_csv('https://drive.google.com/uc?id=13kQ_ybyReJ-J6DVjASqgZlzfnLUKZi0b')"
   ]
  },
  {
   "cell_type": "code",
   "execution_count": 2,
   "id": "088c6fd0",
   "metadata": {
    "ExecuteTime": {
     "end_time": "2022-09-02T10:04:48.522022Z",
     "start_time": "2022-09-02T10:04:48.492024Z"
    }
   },
   "outputs": [
    {
     "data": {
      "text/html": [
       "<div>\n",
       "<style scoped>\n",
       "    .dataframe tbody tr th:only-of-type {\n",
       "        vertical-align: middle;\n",
       "    }\n",
       "\n",
       "    .dataframe tbody tr th {\n",
       "        vertical-align: top;\n",
       "    }\n",
       "\n",
       "    .dataframe thead th {\n",
       "        text-align: right;\n",
       "    }\n",
       "</style>\n",
       "<table border=\"1\" class=\"dataframe\">\n",
       "  <thead>\n",
       "    <tr style=\"text-align: right;\">\n",
       "      <th></th>\n",
       "      <th>user_id</th>\n",
       "      <th>post_id</th>\n",
       "      <th>timestamp</th>\n",
       "    </tr>\n",
       "  </thead>\n",
       "  <tbody>\n",
       "    <tr>\n",
       "      <th>0</th>\n",
       "      <td>128381</td>\n",
       "      <td>4704</td>\n",
       "      <td>1654030804</td>\n",
       "    </tr>\n",
       "    <tr>\n",
       "      <th>1</th>\n",
       "      <td>146885</td>\n",
       "      <td>1399</td>\n",
       "      <td>1654030816</td>\n",
       "    </tr>\n",
       "    <tr>\n",
       "      <th>2</th>\n",
       "      <td>50948</td>\n",
       "      <td>2315</td>\n",
       "      <td>1654030828</td>\n",
       "    </tr>\n",
       "    <tr>\n",
       "      <th>3</th>\n",
       "      <td>14661</td>\n",
       "      <td>673</td>\n",
       "      <td>1654030831</td>\n",
       "    </tr>\n",
       "    <tr>\n",
       "      <th>4</th>\n",
       "      <td>37703</td>\n",
       "      <td>1588</td>\n",
       "      <td>1654030833</td>\n",
       "    </tr>\n",
       "  </tbody>\n",
       "</table>\n",
       "</div>"
      ],
      "text/plain": [
       "   user_id  post_id   timestamp\n",
       "0   128381     4704  1654030804\n",
       "1   146885     1399  1654030816\n",
       "2    50948     2315  1654030828\n",
       "3    14661      673  1654030831\n",
       "4    37703     1588  1654030833"
      ]
     },
     "execution_count": 2,
     "metadata": {},
     "output_type": "execute_result"
    }
   ],
   "source": [
    "likes.head()"
   ]
  },
  {
   "cell_type": "code",
   "execution_count": 3,
   "id": "ae888c5f",
   "metadata": {
    "ExecuteTime": {
     "end_time": "2022-09-02T10:04:48.538023Z",
     "start_time": "2022-09-02T10:04:48.524024Z"
    }
   },
   "outputs": [
    {
     "data": {
      "text/html": [
       "<div>\n",
       "<style scoped>\n",
       "    .dataframe tbody tr th:only-of-type {\n",
       "        vertical-align: middle;\n",
       "    }\n",
       "\n",
       "    .dataframe tbody tr th {\n",
       "        vertical-align: top;\n",
       "    }\n",
       "\n",
       "    .dataframe thead th {\n",
       "        text-align: right;\n",
       "    }\n",
       "</style>\n",
       "<table border=\"1\" class=\"dataframe\">\n",
       "  <thead>\n",
       "    <tr style=\"text-align: right;\">\n",
       "      <th></th>\n",
       "      <th>user_id</th>\n",
       "      <th>exp_group</th>\n",
       "      <th>recommendations</th>\n",
       "      <th>timestamp</th>\n",
       "    </tr>\n",
       "  </thead>\n",
       "  <tbody>\n",
       "    <tr>\n",
       "      <th>0</th>\n",
       "      <td>128381</td>\n",
       "      <td>control</td>\n",
       "      <td>[3644 4529 4704 5294 4808]</td>\n",
       "      <td>1654030803</td>\n",
       "    </tr>\n",
       "    <tr>\n",
       "      <th>1</th>\n",
       "      <td>146885</td>\n",
       "      <td>test</td>\n",
       "      <td>[1399 1076  797 7015 5942]</td>\n",
       "      <td>1654030811</td>\n",
       "    </tr>\n",
       "    <tr>\n",
       "      <th>2</th>\n",
       "      <td>50948</td>\n",
       "      <td>test</td>\n",
       "      <td>[2315 3037 1861 6567 4093]</td>\n",
       "      <td>1654030825</td>\n",
       "    </tr>\n",
       "    <tr>\n",
       "      <th>3</th>\n",
       "      <td>37703</td>\n",
       "      <td>test</td>\n",
       "      <td>[2842 1949  162 1588 6794]</td>\n",
       "      <td>1654030826</td>\n",
       "    </tr>\n",
       "    <tr>\n",
       "      <th>4</th>\n",
       "      <td>14661</td>\n",
       "      <td>test</td>\n",
       "      <td>[2395 5881 5648 3417  673]</td>\n",
       "      <td>1654030829</td>\n",
       "    </tr>\n",
       "  </tbody>\n",
       "</table>\n",
       "</div>"
      ],
      "text/plain": [
       "   user_id exp_group             recommendations   timestamp\n",
       "0   128381   control  [3644 4529 4704 5294 4808]  1654030803\n",
       "1   146885      test  [1399 1076  797 7015 5942]  1654030811\n",
       "2    50948      test  [2315 3037 1861 6567 4093]  1654030825\n",
       "3    37703      test  [2842 1949  162 1588 6794]  1654030826\n",
       "4    14661      test  [2395 5881 5648 3417  673]  1654030829"
      ]
     },
     "execution_count": 3,
     "metadata": {},
     "output_type": "execute_result"
    }
   ],
   "source": [
    "views.head()"
   ]
  },
  {
   "cell_type": "markdown",
   "id": "349f86b7",
   "metadata": {},
   "source": [
    "#### Начнём с проверки разбиения групп."
   ]
  },
  {
   "cell_type": "code",
   "execution_count": 4,
   "id": "2e211c99",
   "metadata": {
    "ExecuteTime": {
     "end_time": "2022-09-02T10:04:48.618023Z",
     "start_time": "2022-09-02T10:04:48.542023Z"
    }
   },
   "outputs": [
    {
     "data": {
      "text/html": [
       "<div>\n",
       "<style scoped>\n",
       "    .dataframe tbody tr th:only-of-type {\n",
       "        vertical-align: middle;\n",
       "    }\n",
       "\n",
       "    .dataframe tbody tr th {\n",
       "        vertical-align: top;\n",
       "    }\n",
       "\n",
       "    .dataframe thead th {\n",
       "        text-align: right;\n",
       "    }\n",
       "</style>\n",
       "<table border=\"1\" class=\"dataframe\">\n",
       "  <thead>\n",
       "    <tr style=\"text-align: right;\">\n",
       "      <th></th>\n",
       "      <th>user_id</th>\n",
       "      <th>exp_group</th>\n",
       "    </tr>\n",
       "  </thead>\n",
       "  <tbody>\n",
       "    <tr>\n",
       "      <th>10071</th>\n",
       "      <td>25623</td>\n",
       "      <td>2</td>\n",
       "    </tr>\n",
       "    <tr>\n",
       "      <th>20633</th>\n",
       "      <td>55788</td>\n",
       "      <td>2</td>\n",
       "    </tr>\n",
       "    <tr>\n",
       "      <th>54475</th>\n",
       "      <td>142283</td>\n",
       "      <td>2</td>\n",
       "    </tr>\n",
       "    <tr>\n",
       "      <th>57065</th>\n",
       "      <td>148670</td>\n",
       "      <td>2</td>\n",
       "    </tr>\n",
       "  </tbody>\n",
       "</table>\n",
       "</div>"
      ],
      "text/plain": [
       "       user_id  exp_group\n",
       "10071    25623          2\n",
       "20633    55788          2\n",
       "54475   142283          2\n",
       "57065   148670          2"
      ]
     },
     "execution_count": 4,
     "metadata": {},
     "output_type": "execute_result"
    }
   ],
   "source": [
    "tmp = views.groupby('user_id').exp_group.nunique().reset_index()\n",
    "tmp[tmp.exp_group > 1]"
   ]
  },
  {
   "cell_type": "markdown",
   "id": "7c3c862d",
   "metadata": {},
   "source": [
    "Всего 4 пользователя, удалим их"
   ]
  },
  {
   "cell_type": "code",
   "execution_count": 5,
   "id": "3dfcb22f",
   "metadata": {
    "ExecuteTime": {
     "end_time": "2022-09-02T10:04:48.650023Z",
     "start_time": "2022-09-02T10:04:48.620023Z"
    }
   },
   "outputs": [],
   "source": [
    "bad_users = tmp[tmp.exp_group > 1].user_id.values\n",
    "\n",
    "views = views[~np.in1d(views.user_id, bad_users)]\n",
    "likes = likes[~np.in1d(likes.user_id, bad_users)]"
   ]
  },
  {
   "cell_type": "markdown",
   "id": "3211bef2",
   "metadata": {},
   "source": [
    "Проверим, что группы разбились нормально"
   ]
  },
  {
   "cell_type": "code",
   "execution_count": 6,
   "id": "5d200a20",
   "metadata": {
    "ExecuteTime": {
     "end_time": "2022-09-02T10:04:48.728022Z",
     "start_time": "2022-09-02T10:04:48.652024Z"
    }
   },
   "outputs": [
    {
     "data": {
      "text/plain": [
       "test       0.502377\n",
       "control    0.497623\n",
       "Name: exp_group, dtype: float64"
      ]
     },
     "execution_count": 6,
     "metadata": {},
     "output_type": "execute_result"
    }
   ],
   "source": [
    "views.groupby('user_id').first().exp_group.value_counts(normalize='True')"
   ]
  },
  {
   "cell_type": "markdown",
   "id": "9a329bb9",
   "metadata": {},
   "source": [
    "Похоже на правду, но проверим критерием"
   ]
  },
  {
   "cell_type": "code",
   "execution_count": 7,
   "id": "8cb1a32f",
   "metadata": {
    "ExecuteTime": {
     "end_time": "2022-09-02T10:04:48.792023Z",
     "start_time": "2022-09-02T10:04:48.730022Z"
    }
   },
   "outputs": [
    {
     "data": {
      "text/plain": [
       "test       32659\n",
       "control    32350\n",
       "Name: exp_group, dtype: int64"
      ]
     },
     "execution_count": 7,
     "metadata": {},
     "output_type": "execute_result"
    }
   ],
   "source": [
    "views.groupby('user_id').first().exp_group.value_counts()"
   ]
  },
  {
   "cell_type": "code",
   "execution_count": 8,
   "id": "2d9b98f6",
   "metadata": {
    "ExecuteTime": {
     "end_time": "2022-09-02T10:04:49.552023Z",
     "start_time": "2022-09-02T10:04:48.794023Z"
    }
   },
   "outputs": [
    {
     "data": {
      "text/plain": [
       "BinomTestResult(k=32659, n=65009, alternative='two-sided', proportion_estimate=0.5023765940100602, pvalue=0.2270501563614752)"
      ]
     },
     "execution_count": 8,
     "metadata": {},
     "output_type": "execute_result"
    }
   ],
   "source": [
    "from scipy.stats import binomtest\n",
    "\n",
    "binomtest(k=32659, n=32659+32350, p=0.5)"
   ]
  },
  {
   "cell_type": "markdown",
   "id": "0fff31a9",
   "metadata": {},
   "source": [
    "#### Попробуем оценить, а улучшаются ли наши метрики в тестовой группе. Посчитаем долю пользователей, которая сделала хотя бы один лайк за время эксперимента без разбивки на группы."
   ]
  },
  {
   "cell_type": "markdown",
   "id": "4b6bc2a7",
   "metadata": {},
   "source": [
    "Соберём разбиение на группы"
   ]
  },
  {
   "cell_type": "code",
   "execution_count": 9,
   "id": "ad54f96c",
   "metadata": {
    "ExecuteTime": {
     "end_time": "2022-09-02T10:04:49.632022Z",
     "start_time": "2022-09-02T10:04:49.554023Z"
    }
   },
   "outputs": [
    {
     "data": {
      "text/html": [
       "<div>\n",
       "<style scoped>\n",
       "    .dataframe tbody tr th:only-of-type {\n",
       "        vertical-align: middle;\n",
       "    }\n",
       "\n",
       "    .dataframe tbody tr th {\n",
       "        vertical-align: top;\n",
       "    }\n",
       "\n",
       "    .dataframe thead th {\n",
       "        text-align: right;\n",
       "    }\n",
       "</style>\n",
       "<table border=\"1\" class=\"dataframe\">\n",
       "  <thead>\n",
       "    <tr style=\"text-align: right;\">\n",
       "      <th></th>\n",
       "      <th>user_id</th>\n",
       "      <th>exp_group</th>\n",
       "    </tr>\n",
       "  </thead>\n",
       "  <tbody>\n",
       "    <tr>\n",
       "      <th>0</th>\n",
       "      <td>200</td>\n",
       "      <td>test</td>\n",
       "    </tr>\n",
       "    <tr>\n",
       "      <th>1</th>\n",
       "      <td>201</td>\n",
       "      <td>test</td>\n",
       "    </tr>\n",
       "    <tr>\n",
       "      <th>2</th>\n",
       "      <td>202</td>\n",
       "      <td>test</td>\n",
       "    </tr>\n",
       "    <tr>\n",
       "      <th>3</th>\n",
       "      <td>212</td>\n",
       "      <td>test</td>\n",
       "    </tr>\n",
       "    <tr>\n",
       "      <th>4</th>\n",
       "      <td>213</td>\n",
       "      <td>test</td>\n",
       "    </tr>\n",
       "  </tbody>\n",
       "</table>\n",
       "</div>"
      ],
      "text/plain": [
       "   user_id exp_group\n",
       "0      200      test\n",
       "1      201      test\n",
       "2      202      test\n",
       "3      212      test\n",
       "4      213      test"
      ]
     },
     "execution_count": 9,
     "metadata": {},
     "output_type": "execute_result"
    }
   ],
   "source": [
    "groups = views.groupby('user_id').first().reset_index()[['user_id', 'exp_group']]\n",
    "groups.head()"
   ]
  },
  {
   "cell_type": "markdown",
   "id": "99a8d77d",
   "metadata": {},
   "source": [
    "Посчитаем число лайков на пользователя"
   ]
  },
  {
   "cell_type": "code",
   "execution_count": 10,
   "id": "0a25b0d9",
   "metadata": {
    "ExecuteTime": {
     "end_time": "2022-09-02T10:04:49.680022Z",
     "start_time": "2022-09-02T10:04:49.636023Z"
    }
   },
   "outputs": [
    {
     "data": {
      "text/html": [
       "<div>\n",
       "<style scoped>\n",
       "    .dataframe tbody tr th:only-of-type {\n",
       "        vertical-align: middle;\n",
       "    }\n",
       "\n",
       "    .dataframe tbody tr th {\n",
       "        vertical-align: top;\n",
       "    }\n",
       "\n",
       "    .dataframe thead th {\n",
       "        text-align: right;\n",
       "    }\n",
       "</style>\n",
       "<table border=\"1\" class=\"dataframe\">\n",
       "  <thead>\n",
       "    <tr style=\"text-align: right;\">\n",
       "      <th></th>\n",
       "      <th>user_id</th>\n",
       "      <th>like_num</th>\n",
       "    </tr>\n",
       "  </thead>\n",
       "  <tbody>\n",
       "    <tr>\n",
       "      <th>0</th>\n",
       "      <td>200</td>\n",
       "      <td>1</td>\n",
       "    </tr>\n",
       "    <tr>\n",
       "      <th>1</th>\n",
       "      <td>201</td>\n",
       "      <td>3</td>\n",
       "    </tr>\n",
       "    <tr>\n",
       "      <th>2</th>\n",
       "      <td>202</td>\n",
       "      <td>2</td>\n",
       "    </tr>\n",
       "    <tr>\n",
       "      <th>3</th>\n",
       "      <td>212</td>\n",
       "      <td>4</td>\n",
       "    </tr>\n",
       "    <tr>\n",
       "      <th>4</th>\n",
       "      <td>213</td>\n",
       "      <td>7</td>\n",
       "    </tr>\n",
       "  </tbody>\n",
       "</table>\n",
       "</div>"
      ],
      "text/plain": [
       "   user_id  like_num\n",
       "0      200         1\n",
       "1      201         3\n",
       "2      202         2\n",
       "3      212         4\n",
       "4      213         7"
      ]
     },
     "execution_count": 10,
     "metadata": {},
     "output_type": "execute_result"
    }
   ],
   "source": [
    "users_w_likes = (\n",
    "    likes\n",
    "    .groupby('user_id')\n",
    "    .post_id.count()\n",
    "    .reset_index()\n",
    "    .rename(columns={'post_id': 'like_num'})\n",
    ")\n",
    "users_w_likes.head()"
   ]
  },
  {
   "cell_type": "markdown",
   "id": "4ece9e4a",
   "metadata": {},
   "source": [
    "Соберём вместе"
   ]
  },
  {
   "cell_type": "code",
   "execution_count": 11,
   "id": "8f156b09",
   "metadata": {
    "ExecuteTime": {
     "end_time": "2022-09-02T10:04:49.727022Z",
     "start_time": "2022-09-02T10:04:49.682023Z"
    }
   },
   "outputs": [],
   "source": [
    "tmp = pd.merge(groups, users_w_likes, on='user_id', how='left')\n",
    "tmp.like_num = tmp.like_num.fillna(0)\n",
    "tmp['has_like'] = (tmp['like_num'] > 0).astype(int)"
   ]
  },
  {
   "cell_type": "code",
   "execution_count": 12,
   "id": "28a68d97",
   "metadata": {
    "ExecuteTime": {
     "end_time": "2022-09-02T10:04:49.758022Z",
     "start_time": "2022-09-02T10:04:49.729024Z"
    }
   },
   "outputs": [
    {
     "data": {
      "text/html": [
       "<div>\n",
       "<style scoped>\n",
       "    .dataframe tbody tr th:only-of-type {\n",
       "        vertical-align: middle;\n",
       "    }\n",
       "\n",
       "    .dataframe tbody tr th {\n",
       "        vertical-align: top;\n",
       "    }\n",
       "\n",
       "    .dataframe thead th {\n",
       "        text-align: right;\n",
       "    }\n",
       "</style>\n",
       "<table border=\"1\" class=\"dataframe\">\n",
       "  <thead>\n",
       "    <tr style=\"text-align: right;\">\n",
       "      <th></th>\n",
       "      <th>has_like</th>\n",
       "      <th>like_num</th>\n",
       "    </tr>\n",
       "    <tr>\n",
       "      <th>exp_group</th>\n",
       "      <th></th>\n",
       "      <th></th>\n",
       "    </tr>\n",
       "  </thead>\n",
       "  <tbody>\n",
       "    <tr>\n",
       "      <th>control</th>\n",
       "      <td>0.891314</td>\n",
       "      <td>3.487079</td>\n",
       "    </tr>\n",
       "    <tr>\n",
       "      <th>test</th>\n",
       "      <td>0.898160</td>\n",
       "      <td>3.592578</td>\n",
       "    </tr>\n",
       "  </tbody>\n",
       "</table>\n",
       "</div>"
      ],
      "text/plain": [
       "           has_like  like_num\n",
       "exp_group                    \n",
       "control    0.891314  3.487079\n",
       "test       0.898160  3.592578"
      ]
     },
     "execution_count": 12,
     "metadata": {},
     "output_type": "execute_result"
    }
   ],
   "source": [
    "tmp.groupby('exp_group')[['has_like', 'like_num']].mean()"
   ]
  },
  {
   "cell_type": "markdown",
   "id": "5e942afd",
   "metadata": {},
   "source": [
    "Здесь мы посчитали отдельно по группам, видно что ~ 89.5%"
   ]
  },
  {
   "cell_type": "markdown",
   "id": "1bcfc389",
   "metadata": {},
   "source": [
    "#### Ответим на вопрос \"стали люди ставить больше лайков в тестовой группе\". Используем уровень значимости 0.05."
   ]
  },
  {
   "cell_type": "code",
   "execution_count": 13,
   "id": "b9953a59",
   "metadata": {
    "ExecuteTime": {
     "end_time": "2022-09-02T10:04:49.836023Z",
     "start_time": "2022-09-02T10:04:49.760023Z"
    }
   },
   "outputs": [
    {
     "data": {
      "text/plain": [
       "MannwhitneyuResult(statistic=518358073.0, pvalue=2.9585062792441964e-05)"
      ]
     },
     "execution_count": 13,
     "metadata": {},
     "output_type": "execute_result"
    }
   ],
   "source": [
    "from scipy.stats import mannwhitneyu\n",
    "\n",
    "mannwhitneyu(\n",
    "    tmp[tmp.exp_group == 'control'].like_num,\n",
    "    tmp[tmp.exp_group == 'test'].like_num,\n",
    ")"
   ]
  },
  {
   "cell_type": "markdown",
   "id": "925fad13",
   "metadata": {},
   "source": [
    "Обе метрики статистически значимо улучшились, то есть лайкать стали больше"
   ]
  },
  {
   "cell_type": "markdown",
   "id": "e269b691",
   "metadata": {},
   "source": [
    "#### Посчитаем hitrate (или долю рекомендаций, в которые пользователи кликнули)"
   ]
  },
  {
   "cell_type": "markdown",
   "id": "3f19e840",
   "metadata": {},
   "source": [
    "Соединим все пары показом и кликов пользователей (не забудем про показы без кликов)"
   ]
  },
  {
   "cell_type": "code",
   "execution_count": 14,
   "id": "104a8e17",
   "metadata": {
    "ExecuteTime": {
     "end_time": "2022-09-02T10:04:50.012022Z",
     "start_time": "2022-09-02T10:04:49.838024Z"
    }
   },
   "outputs": [],
   "source": [
    "tmp = pd.merge(views, likes, on='user_id', how='outer')\n",
    "tmp.post_id = tmp.post_id.fillna(-1).astype(int)"
   ]
  },
  {
   "cell_type": "markdown",
   "id": "66ad813c",
   "metadata": {},
   "source": [
    "Распарсим сами показы"
   ]
  },
  {
   "cell_type": "code",
   "execution_count": 15,
   "id": "6c0a8383",
   "metadata": {
    "ExecuteTime": {
     "end_time": "2022-09-02T10:04:52.686022Z",
     "start_time": "2022-09-02T10:04:50.014023Z"
    }
   },
   "outputs": [],
   "source": [
    "tmp['recommendations'] = tmp.recommendations.apply(\n",
    "    lambda x: list(map(int, filter(bool, x[1:-1].split(' '))))\n",
    ")"
   ]
  },
  {
   "cell_type": "markdown",
   "id": "bf0657c1",
   "metadata": {},
   "source": [
    "Пробежимся по всем показам и сравним с лайками. Пометим то, слишком старое или из будущего, лайки по непоказанным рекомендациям"
   ]
  },
  {
   "cell_type": "code",
   "execution_count": 16,
   "id": "57388b3d",
   "metadata": {
    "ExecuteTime": {
     "end_time": "2022-09-02T10:06:10.930022Z",
     "start_time": "2022-09-02T10:04:52.688024Z"
    }
   },
   "outputs": [],
   "source": [
    "tmp.post_id = tmp.apply(\n",
    "    lambda row:\n",
    "    -1\n",
    "    if\n",
    "        (row.post_id == -1) | \n",
    "        ((row.timestamp_x > row.timestamp_y) &\n",
    "         (row.timestamp_x + 60 * 60 < row.timestamp_y)) |\n",
    "        (row.post_id not in row.recommendations)\n",
    "    else\n",
    "    row.post_id, axis=1)"
   ]
  },
  {
   "cell_type": "markdown",
   "id": "982892b1",
   "metadata": {},
   "source": [
    "Сравним размерности (предполагаем, что таймстемпы показов у пользователей были уникальны)"
   ]
  },
  {
   "cell_type": "code",
   "execution_count": 17,
   "id": "e6a47601",
   "metadata": {
    "ExecuteTime": {
     "end_time": "2022-09-02T10:06:10.946024Z",
     "start_time": "2022-09-02T10:06:10.933022Z"
    }
   },
   "outputs": [
    {
     "data": {
      "text/plain": [
       "(193268, 1016889)"
      ]
     },
     "execution_count": 17,
     "metadata": {},
     "output_type": "execute_result"
    }
   ],
   "source": [
    "len(views), len(tmp)"
   ]
  },
  {
   "cell_type": "code",
   "execution_count": 18,
   "id": "8e9379be",
   "metadata": {
    "ExecuteTime": {
     "end_time": "2022-09-02T10:06:11.122023Z",
     "start_time": "2022-09-02T10:06:10.950025Z"
    }
   },
   "outputs": [
    {
     "data": {
      "text/plain": [
       "(193268, 2)"
      ]
     },
     "execution_count": 18,
     "metadata": {},
     "output_type": "execute_result"
    }
   ],
   "source": [
    "views.groupby(['user_id', 'timestamp']).first().shape"
   ]
  },
  {
   "cell_type": "markdown",
   "id": "7981e074",
   "metadata": {},
   "source": [
    "Кажется, что ок. Давайте уникализируем"
   ]
  },
  {
   "cell_type": "code",
   "execution_count": 19,
   "id": "c3385642",
   "metadata": {
    "ExecuteTime": {
     "end_time": "2022-09-02T10:06:17.178022Z",
     "start_time": "2022-09-02T10:06:11.124022Z"
    }
   },
   "outputs": [],
   "source": [
    "def my_agg(values):\n",
    "    values = set(values)\n",
    "    if -1 in values and len(values) >= 2:\n",
    "        return 1\n",
    "    elif -1 not in values:\n",
    "        return 1\n",
    "    return 0\n",
    "\n",
    "tmp_agg = tmp.groupby(['user_id', 'exp_group', 'timestamp_x']).post_id.agg(my_agg)"
   ]
  },
  {
   "cell_type": "code",
   "execution_count": 20,
   "id": "7a88261f",
   "metadata": {
    "ExecuteTime": {
     "end_time": "2022-09-02T10:06:17.210023Z",
     "start_time": "2022-09-02T10:06:17.180023Z"
    }
   },
   "outputs": [
    {
     "data": {
      "text/plain": [
       "0.7143758925429973"
      ]
     },
     "execution_count": 20,
     "metadata": {},
     "output_type": "execute_result"
    }
   ],
   "source": [
    "# Доля показов, в которых был хотя бы один лайк.\n",
    "tmp_agg.reset_index().post_id.mean()"
   ]
  },
  {
   "cell_type": "markdown",
   "id": "36765f0a",
   "metadata": {},
   "source": [
    "#### А теперь  оценим различие между группами и значимость. z-критерий для долей мы здесь не можем применять, так как у нас в каждой выборке один и тот же пользователь может встречаться несколько раз. Применим бакетный подход (то есть перейдём к бакетам и по ним оценим значимость), чтобы поститать групповой hitrate (или CTR) — доля hitrate по группе/бакету. Используем 100 бакетов. Уровень значимости останется тем же на уровне 0.05."
   ]
  },
  {
   "cell_type": "code",
   "execution_count": 21,
   "id": "5fa0c6b7",
   "metadata": {
    "ExecuteTime": {
     "end_time": "2022-09-02T10:06:41.987022Z",
     "start_time": "2022-09-02T10:06:41.949022Z"
    }
   },
   "outputs": [],
   "source": [
    "tmp_agg = tmp_agg.reset_index().rename(columns={'post_id': 'hitrate'})"
   ]
  },
  {
   "cell_type": "code",
   "execution_count": 22,
   "id": "d035820d",
   "metadata": {
    "ExecuteTime": {
     "end_time": "2022-09-02T10:07:44.842022Z",
     "start_time": "2022-09-02T10:07:44.266022Z"
    }
   },
   "outputs": [],
   "source": [
    "# Подготовим бакеты\n",
    "import hashlib\n",
    "\n",
    "tmp_agg['bucket'] = tmp_agg['user_id'].apply(\n",
    "    lambda x: int(hashlib.md5((str(x) + 'bbb').encode()).hexdigest(), 16) % 100\n",
    ")"
   ]
  },
  {
   "cell_type": "code",
   "execution_count": 23,
   "id": "52ed1b52",
   "metadata": {
    "ExecuteTime": {
     "end_time": "2022-09-02T10:07:44.904022Z",
     "start_time": "2022-09-02T10:07:44.844023Z"
    }
   },
   "outputs": [
    {
     "data": {
      "text/html": [
       "<div>\n",
       "<style scoped>\n",
       "    .dataframe tbody tr th:only-of-type {\n",
       "        vertical-align: middle;\n",
       "    }\n",
       "\n",
       "    .dataframe tbody tr th {\n",
       "        vertical-align: top;\n",
       "    }\n",
       "\n",
       "    .dataframe thead th {\n",
       "        text-align: right;\n",
       "    }\n",
       "</style>\n",
       "<table border=\"1\" class=\"dataframe\">\n",
       "  <thead>\n",
       "    <tr style=\"text-align: right;\">\n",
       "      <th></th>\n",
       "      <th>exp_group</th>\n",
       "      <th>bucket</th>\n",
       "      <th>user_id</th>\n",
       "      <th>timestamp_x</th>\n",
       "      <th>hitrate</th>\n",
       "      <th>view</th>\n",
       "      <th>hitrate_new</th>\n",
       "    </tr>\n",
       "  </thead>\n",
       "  <tbody>\n",
       "    <tr>\n",
       "      <th>0</th>\n",
       "      <td>control</td>\n",
       "      <td>0</td>\n",
       "      <td>75055655</td>\n",
       "      <td>1472627637383</td>\n",
       "      <td>621</td>\n",
       "      <td>890</td>\n",
       "      <td>0.697753</td>\n",
       "    </tr>\n",
       "    <tr>\n",
       "      <th>1</th>\n",
       "      <td>control</td>\n",
       "      <td>1</td>\n",
       "      <td>78264361</td>\n",
       "      <td>1557009869357</td>\n",
       "      <td>668</td>\n",
       "      <td>941</td>\n",
       "      <td>0.709883</td>\n",
       "    </tr>\n",
       "    <tr>\n",
       "      <th>2</th>\n",
       "      <td>control</td>\n",
       "      <td>2</td>\n",
       "      <td>89756485</td>\n",
       "      <td>1664574067853</td>\n",
       "      <td>707</td>\n",
       "      <td>1006</td>\n",
       "      <td>0.702783</td>\n",
       "    </tr>\n",
       "    <tr>\n",
       "      <th>3</th>\n",
       "      <td>control</td>\n",
       "      <td>3</td>\n",
       "      <td>74901253</td>\n",
       "      <td>1523924072519</td>\n",
       "      <td>646</td>\n",
       "      <td>921</td>\n",
       "      <td>0.701412</td>\n",
       "    </tr>\n",
       "    <tr>\n",
       "      <th>4</th>\n",
       "      <td>control</td>\n",
       "      <td>4</td>\n",
       "      <td>77518818</td>\n",
       "      <td>1603347973264</td>\n",
       "      <td>710</td>\n",
       "      <td>969</td>\n",
       "      <td>0.732714</td>\n",
       "    </tr>\n",
       "  </tbody>\n",
       "</table>\n",
       "</div>"
      ],
      "text/plain": [
       "  exp_group  bucket   user_id    timestamp_x  hitrate  view  hitrate_new\n",
       "0   control       0  75055655  1472627637383      621   890     0.697753\n",
       "1   control       1  78264361  1557009869357      668   941     0.709883\n",
       "2   control       2  89756485  1664574067853      707  1006     0.702783\n",
       "3   control       3  74901253  1523924072519      646   921     0.701412\n",
       "4   control       4  77518818  1603347973264      710   969     0.732714"
      ]
     },
     "execution_count": 23,
     "metadata": {},
     "output_type": "execute_result"
    }
   ],
   "source": [
    "tmp_agg['view'] = 1\n",
    "\n",
    "new_df = tmp_agg.groupby(['exp_group', 'bucket']).sum(['hitrate', 'view']).reset_index()\n",
    "new_df['hitrate_new'] = new_df.hitrate / new_df.view\n",
    "\n",
    "new_df.head()"
   ]
  },
  {
   "cell_type": "code",
   "execution_count": 24,
   "id": "5edb5765",
   "metadata": {
    "ExecuteTime": {
     "end_time": "2022-09-02T10:07:44.936022Z",
     "start_time": "2022-09-02T10:07:44.906022Z"
    }
   },
   "outputs": [
    {
     "data": {
      "text/plain": [
       "exp_group\n",
       "control    0.707741\n",
       "test       0.720975\n",
       "Name: hitrate, dtype: float64"
      ]
     },
     "execution_count": 24,
     "metadata": {},
     "output_type": "execute_result"
    }
   ],
   "source": [
    "#  Посчитаем метрику\n",
    "tmp_agg.groupby('exp_group').hitrate.mean()"
   ]
  },
  {
   "cell_type": "markdown",
   "id": "bccbcb51",
   "metadata": {},
   "source": [
    "Разница довольно большая! Но что со значимостью"
   ]
  },
  {
   "cell_type": "code",
   "execution_count": 25,
   "id": "49d0c312",
   "metadata": {
    "ExecuteTime": {
     "end_time": "2022-09-02T10:07:46.590023Z",
     "start_time": "2022-09-02T10:07:46.576023Z"
    }
   },
   "outputs": [
    {
     "data": {
      "text/plain": [
       "MannwhitneyuResult(statistic=2452.0, pvalue=4.829847062588435e-10)"
      ]
     },
     "execution_count": 25,
     "metadata": {},
     "output_type": "execute_result"
    }
   ],
   "source": [
    "from scipy.stats import mannwhitneyu, ttest_ind\n",
    "mannwhitneyu(\n",
    "    new_df[new_df.exp_group == 'control'].hitrate_new,\n",
    "    new_df[new_df.exp_group == 'test'].hitrate_new,\n",
    ")"
   ]
  },
  {
   "cell_type": "code",
   "execution_count": 26,
   "id": "f128b6e0",
   "metadata": {
    "ExecuteTime": {
     "end_time": "2022-09-02T10:07:47.032022Z",
     "start_time": "2022-09-02T10:07:47.016022Z"
    }
   },
   "outputs": [
    {
     "data": {
      "text/plain": [
       "Ttest_indResult(statistic=-6.304578169376004, pvalue=1.8432228173570576e-09)"
      ]
     },
     "execution_count": 26,
     "metadata": {},
     "output_type": "execute_result"
    }
   ],
   "source": [
    "ttest_ind(\n",
    "    new_df[new_df.exp_group == 'control'].hitrate_new,\n",
    "    new_df[new_df.exp_group == 'test'].hitrate_new,\n",
    ")"
   ]
  },
  {
   "cell_type": "markdown",
   "id": "00421f39",
   "metadata": {
    "ExecuteTime": {
     "end_time": "2022-09-02T10:08:01.553022Z",
     "start_time": "2022-09-02T10:08:01.542023Z"
    }
   },
   "source": [
    "В тестовой группе hitrate выше на 1 п.п. (до бакетирования), есть статистически значимая разница"
   ]
  },
  {
   "cell_type": "markdown",
   "id": "467ea198",
   "metadata": {},
   "source": [
    "Проведен A/B эксперимент с моделями, а также проанализировали его. Ответили на самый главный вопрос  (стали ли наши рекомендации лучше), но в реальном продукте могли бы ещё посчитать денежные метрики и более точно посчитать метрики качества рекомендаций."
   ]
  }
 ],
 "metadata": {
  "kernelspec": {
   "display_name": "Python 3 (ipykernel)",
   "language": "python",
   "name": "python3"
  },
  "language_info": {
   "codemirror_mode": {
    "name": "ipython",
    "version": 3
   },
   "file_extension": ".py",
   "mimetype": "text/x-python",
   "name": "python",
   "nbconvert_exporter": "python",
   "pygments_lexer": "ipython3",
   "version": "3.9.10"
  }
 },
 "nbformat": 4,
 "nbformat_minor": 5
}
